{
 "cells": [
  {
   "cell_type": "code",
   "execution_count": 1,
   "id": "577729cb",
   "metadata": {},
   "outputs": [],
   "source": [
    "## importing Libraries"
   ]
  },
  {
   "cell_type": "code",
   "execution_count": 2,
   "id": "6df54d99",
   "metadata": {},
   "outputs": [],
   "source": [
    "import pandas as pd\n",
    "import numpy as np\n",
    "import seaborn as sns\n",
    "import matplotlib.pyplot as plt\n",
    "import warnings\n",
    "warnings.filterwarnings('ignore')"
   ]
  },
  {
   "cell_type": "code",
   "execution_count": 3,
   "id": "1e0af088",
   "metadata": {},
   "outputs": [],
   "source": [
    "### load dataset"
   ]
  },
  {
   "cell_type": "code",
   "execution_count": 4,
   "id": "e513f0b5",
   "metadata": {},
   "outputs": [],
   "source": [
    "df = pd.read_csv('D:\\\\leraning\\\\Dataset\\\\data1\\\\travel.csv')"
   ]
  },
  {
   "cell_type": "code",
   "execution_count": 5,
   "id": "dcc98f0d",
   "metadata": {},
   "outputs": [
    {
     "data": {
      "text/html": [
       "<div>\n",
       "<style scoped>\n",
       "    .dataframe tbody tr th:only-of-type {\n",
       "        vertical-align: middle;\n",
       "    }\n",
       "\n",
       "    .dataframe tbody tr th {\n",
       "        vertical-align: top;\n",
       "    }\n",
       "\n",
       "    .dataframe thead th {\n",
       "        text-align: right;\n",
       "    }\n",
       "</style>\n",
       "<table border=\"1\" class=\"dataframe\">\n",
       "  <thead>\n",
       "    <tr style=\"text-align: right;\">\n",
       "      <th></th>\n",
       "      <th>CustomerID</th>\n",
       "      <th>ProdTaken</th>\n",
       "      <th>Age</th>\n",
       "      <th>TypeofContact</th>\n",
       "      <th>CityTier</th>\n",
       "      <th>DurationOfPitch</th>\n",
       "      <th>Occupation</th>\n",
       "      <th>Gender</th>\n",
       "      <th>NumberOfPersonVisiting</th>\n",
       "      <th>NumberOfFollowups</th>\n",
       "      <th>ProductPitched</th>\n",
       "      <th>PreferredPropertyStar</th>\n",
       "      <th>MaritalStatus</th>\n",
       "      <th>NumberOfTrips</th>\n",
       "      <th>Passport</th>\n",
       "      <th>PitchSatisfactionScore</th>\n",
       "      <th>OwnCar</th>\n",
       "      <th>NumberOfChildrenVisiting</th>\n",
       "      <th>Designation</th>\n",
       "      <th>MonthlyIncome</th>\n",
       "    </tr>\n",
       "  </thead>\n",
       "  <tbody>\n",
       "    <tr>\n",
       "      <th>0</th>\n",
       "      <td>200000</td>\n",
       "      <td>1</td>\n",
       "      <td>41.0</td>\n",
       "      <td>Self Enquiry</td>\n",
       "      <td>3</td>\n",
       "      <td>6.0</td>\n",
       "      <td>Salaried</td>\n",
       "      <td>Female</td>\n",
       "      <td>3</td>\n",
       "      <td>3.0</td>\n",
       "      <td>Deluxe</td>\n",
       "      <td>3.0</td>\n",
       "      <td>Single</td>\n",
       "      <td>1.0</td>\n",
       "      <td>1</td>\n",
       "      <td>2</td>\n",
       "      <td>1</td>\n",
       "      <td>0.0</td>\n",
       "      <td>Manager</td>\n",
       "      <td>20993.0</td>\n",
       "    </tr>\n",
       "    <tr>\n",
       "      <th>1</th>\n",
       "      <td>200001</td>\n",
       "      <td>0</td>\n",
       "      <td>49.0</td>\n",
       "      <td>Company Invited</td>\n",
       "      <td>1</td>\n",
       "      <td>14.0</td>\n",
       "      <td>Salaried</td>\n",
       "      <td>Male</td>\n",
       "      <td>3</td>\n",
       "      <td>4.0</td>\n",
       "      <td>Deluxe</td>\n",
       "      <td>4.0</td>\n",
       "      <td>Divorced</td>\n",
       "      <td>2.0</td>\n",
       "      <td>0</td>\n",
       "      <td>3</td>\n",
       "      <td>1</td>\n",
       "      <td>2.0</td>\n",
       "      <td>Manager</td>\n",
       "      <td>20130.0</td>\n",
       "    </tr>\n",
       "    <tr>\n",
       "      <th>2</th>\n",
       "      <td>200002</td>\n",
       "      <td>1</td>\n",
       "      <td>37.0</td>\n",
       "      <td>Self Enquiry</td>\n",
       "      <td>1</td>\n",
       "      <td>8.0</td>\n",
       "      <td>Free Lancer</td>\n",
       "      <td>Male</td>\n",
       "      <td>3</td>\n",
       "      <td>4.0</td>\n",
       "      <td>Basic</td>\n",
       "      <td>3.0</td>\n",
       "      <td>Single</td>\n",
       "      <td>7.0</td>\n",
       "      <td>1</td>\n",
       "      <td>3</td>\n",
       "      <td>0</td>\n",
       "      <td>0.0</td>\n",
       "      <td>Executive</td>\n",
       "      <td>17090.0</td>\n",
       "    </tr>\n",
       "    <tr>\n",
       "      <th>3</th>\n",
       "      <td>200003</td>\n",
       "      <td>0</td>\n",
       "      <td>33.0</td>\n",
       "      <td>Company Invited</td>\n",
       "      <td>1</td>\n",
       "      <td>9.0</td>\n",
       "      <td>Salaried</td>\n",
       "      <td>Female</td>\n",
       "      <td>2</td>\n",
       "      <td>3.0</td>\n",
       "      <td>Basic</td>\n",
       "      <td>3.0</td>\n",
       "      <td>Divorced</td>\n",
       "      <td>2.0</td>\n",
       "      <td>1</td>\n",
       "      <td>5</td>\n",
       "      <td>1</td>\n",
       "      <td>1.0</td>\n",
       "      <td>Executive</td>\n",
       "      <td>17909.0</td>\n",
       "    </tr>\n",
       "    <tr>\n",
       "      <th>4</th>\n",
       "      <td>200004</td>\n",
       "      <td>0</td>\n",
       "      <td>NaN</td>\n",
       "      <td>Self Enquiry</td>\n",
       "      <td>1</td>\n",
       "      <td>8.0</td>\n",
       "      <td>Small Business</td>\n",
       "      <td>Male</td>\n",
       "      <td>2</td>\n",
       "      <td>3.0</td>\n",
       "      <td>Basic</td>\n",
       "      <td>4.0</td>\n",
       "      <td>Divorced</td>\n",
       "      <td>1.0</td>\n",
       "      <td>0</td>\n",
       "      <td>5</td>\n",
       "      <td>1</td>\n",
       "      <td>0.0</td>\n",
       "      <td>Executive</td>\n",
       "      <td>18468.0</td>\n",
       "    </tr>\n",
       "    <tr>\n",
       "      <th>...</th>\n",
       "      <td>...</td>\n",
       "      <td>...</td>\n",
       "      <td>...</td>\n",
       "      <td>...</td>\n",
       "      <td>...</td>\n",
       "      <td>...</td>\n",
       "      <td>...</td>\n",
       "      <td>...</td>\n",
       "      <td>...</td>\n",
       "      <td>...</td>\n",
       "      <td>...</td>\n",
       "      <td>...</td>\n",
       "      <td>...</td>\n",
       "      <td>...</td>\n",
       "      <td>...</td>\n",
       "      <td>...</td>\n",
       "      <td>...</td>\n",
       "      <td>...</td>\n",
       "      <td>...</td>\n",
       "      <td>...</td>\n",
       "    </tr>\n",
       "    <tr>\n",
       "      <th>4883</th>\n",
       "      <td>204883</td>\n",
       "      <td>1</td>\n",
       "      <td>49.0</td>\n",
       "      <td>Self Enquiry</td>\n",
       "      <td>3</td>\n",
       "      <td>9.0</td>\n",
       "      <td>Small Business</td>\n",
       "      <td>Male</td>\n",
       "      <td>3</td>\n",
       "      <td>5.0</td>\n",
       "      <td>Deluxe</td>\n",
       "      <td>4.0</td>\n",
       "      <td>Unmarried</td>\n",
       "      <td>2.0</td>\n",
       "      <td>1</td>\n",
       "      <td>1</td>\n",
       "      <td>1</td>\n",
       "      <td>1.0</td>\n",
       "      <td>Manager</td>\n",
       "      <td>26576.0</td>\n",
       "    </tr>\n",
       "    <tr>\n",
       "      <th>4884</th>\n",
       "      <td>204884</td>\n",
       "      <td>1</td>\n",
       "      <td>28.0</td>\n",
       "      <td>Company Invited</td>\n",
       "      <td>1</td>\n",
       "      <td>31.0</td>\n",
       "      <td>Salaried</td>\n",
       "      <td>Male</td>\n",
       "      <td>4</td>\n",
       "      <td>5.0</td>\n",
       "      <td>Basic</td>\n",
       "      <td>3.0</td>\n",
       "      <td>Single</td>\n",
       "      <td>3.0</td>\n",
       "      <td>1</td>\n",
       "      <td>3</td>\n",
       "      <td>1</td>\n",
       "      <td>2.0</td>\n",
       "      <td>Executive</td>\n",
       "      <td>21212.0</td>\n",
       "    </tr>\n",
       "    <tr>\n",
       "      <th>4885</th>\n",
       "      <td>204885</td>\n",
       "      <td>1</td>\n",
       "      <td>52.0</td>\n",
       "      <td>Self Enquiry</td>\n",
       "      <td>3</td>\n",
       "      <td>17.0</td>\n",
       "      <td>Salaried</td>\n",
       "      <td>Female</td>\n",
       "      <td>4</td>\n",
       "      <td>4.0</td>\n",
       "      <td>Standard</td>\n",
       "      <td>4.0</td>\n",
       "      <td>Married</td>\n",
       "      <td>7.0</td>\n",
       "      <td>0</td>\n",
       "      <td>1</td>\n",
       "      <td>1</td>\n",
       "      <td>3.0</td>\n",
       "      <td>Senior Manager</td>\n",
       "      <td>31820.0</td>\n",
       "    </tr>\n",
       "    <tr>\n",
       "      <th>4886</th>\n",
       "      <td>204886</td>\n",
       "      <td>1</td>\n",
       "      <td>19.0</td>\n",
       "      <td>Self Enquiry</td>\n",
       "      <td>3</td>\n",
       "      <td>16.0</td>\n",
       "      <td>Small Business</td>\n",
       "      <td>Male</td>\n",
       "      <td>3</td>\n",
       "      <td>4.0</td>\n",
       "      <td>Basic</td>\n",
       "      <td>3.0</td>\n",
       "      <td>Single</td>\n",
       "      <td>3.0</td>\n",
       "      <td>0</td>\n",
       "      <td>5</td>\n",
       "      <td>0</td>\n",
       "      <td>2.0</td>\n",
       "      <td>Executive</td>\n",
       "      <td>20289.0</td>\n",
       "    </tr>\n",
       "    <tr>\n",
       "      <th>4887</th>\n",
       "      <td>204887</td>\n",
       "      <td>1</td>\n",
       "      <td>36.0</td>\n",
       "      <td>Self Enquiry</td>\n",
       "      <td>1</td>\n",
       "      <td>14.0</td>\n",
       "      <td>Salaried</td>\n",
       "      <td>Male</td>\n",
       "      <td>4</td>\n",
       "      <td>4.0</td>\n",
       "      <td>Basic</td>\n",
       "      <td>4.0</td>\n",
       "      <td>Unmarried</td>\n",
       "      <td>3.0</td>\n",
       "      <td>1</td>\n",
       "      <td>3</td>\n",
       "      <td>1</td>\n",
       "      <td>2.0</td>\n",
       "      <td>Executive</td>\n",
       "      <td>24041.0</td>\n",
       "    </tr>\n",
       "  </tbody>\n",
       "</table>\n",
       "<p>4888 rows × 20 columns</p>\n",
       "</div>"
      ],
      "text/plain": [
       "      CustomerID  ProdTaken   Age    TypeofContact  CityTier  DurationOfPitch  \\\n",
       "0         200000          1  41.0     Self Enquiry         3              6.0   \n",
       "1         200001          0  49.0  Company Invited         1             14.0   \n",
       "2         200002          1  37.0     Self Enquiry         1              8.0   \n",
       "3         200003          0  33.0  Company Invited         1              9.0   \n",
       "4         200004          0   NaN     Self Enquiry         1              8.0   \n",
       "...          ...        ...   ...              ...       ...              ...   \n",
       "4883      204883          1  49.0     Self Enquiry         3              9.0   \n",
       "4884      204884          1  28.0  Company Invited         1             31.0   \n",
       "4885      204885          1  52.0     Self Enquiry         3             17.0   \n",
       "4886      204886          1  19.0     Self Enquiry         3             16.0   \n",
       "4887      204887          1  36.0     Self Enquiry         1             14.0   \n",
       "\n",
       "          Occupation  Gender  NumberOfPersonVisiting  NumberOfFollowups  \\\n",
       "0           Salaried  Female                       3                3.0   \n",
       "1           Salaried    Male                       3                4.0   \n",
       "2        Free Lancer    Male                       3                4.0   \n",
       "3           Salaried  Female                       2                3.0   \n",
       "4     Small Business    Male                       2                3.0   \n",
       "...              ...     ...                     ...                ...   \n",
       "4883  Small Business    Male                       3                5.0   \n",
       "4884        Salaried    Male                       4                5.0   \n",
       "4885        Salaried  Female                       4                4.0   \n",
       "4886  Small Business    Male                       3                4.0   \n",
       "4887        Salaried    Male                       4                4.0   \n",
       "\n",
       "     ProductPitched  PreferredPropertyStar MaritalStatus  NumberOfTrips  \\\n",
       "0            Deluxe                    3.0        Single            1.0   \n",
       "1            Deluxe                    4.0      Divorced            2.0   \n",
       "2             Basic                    3.0        Single            7.0   \n",
       "3             Basic                    3.0      Divorced            2.0   \n",
       "4             Basic                    4.0      Divorced            1.0   \n",
       "...             ...                    ...           ...            ...   \n",
       "4883         Deluxe                    4.0     Unmarried            2.0   \n",
       "4884          Basic                    3.0        Single            3.0   \n",
       "4885       Standard                    4.0       Married            7.0   \n",
       "4886          Basic                    3.0        Single            3.0   \n",
       "4887          Basic                    4.0     Unmarried            3.0   \n",
       "\n",
       "      Passport  PitchSatisfactionScore  OwnCar  NumberOfChildrenVisiting  \\\n",
       "0            1                       2       1                       0.0   \n",
       "1            0                       3       1                       2.0   \n",
       "2            1                       3       0                       0.0   \n",
       "3            1                       5       1                       1.0   \n",
       "4            0                       5       1                       0.0   \n",
       "...        ...                     ...     ...                       ...   \n",
       "4883         1                       1       1                       1.0   \n",
       "4884         1                       3       1                       2.0   \n",
       "4885         0                       1       1                       3.0   \n",
       "4886         0                       5       0                       2.0   \n",
       "4887         1                       3       1                       2.0   \n",
       "\n",
       "         Designation  MonthlyIncome  \n",
       "0            Manager        20993.0  \n",
       "1            Manager        20130.0  \n",
       "2          Executive        17090.0  \n",
       "3          Executive        17909.0  \n",
       "4          Executive        18468.0  \n",
       "...              ...            ...  \n",
       "4883         Manager        26576.0  \n",
       "4884       Executive        21212.0  \n",
       "4885  Senior Manager        31820.0  \n",
       "4886       Executive        20289.0  \n",
       "4887       Executive        24041.0  \n",
       "\n",
       "[4888 rows x 20 columns]"
      ]
     },
     "execution_count": 5,
     "metadata": {},
     "output_type": "execute_result"
    }
   ],
   "source": [
    "df"
   ]
  },
  {
   "cell_type": "code",
   "execution_count": 6,
   "id": "8b0f4747",
   "metadata": {},
   "outputs": [],
   "source": [
    "#EDA Process"
   ]
  },
  {
   "cell_type": "code",
   "execution_count": 7,
   "id": "ecfe0f59",
   "metadata": {},
   "outputs": [],
   "source": [
    "## check the number of rows and columns in dataset"
   ]
  },
  {
   "cell_type": "code",
   "execution_count": 8,
   "id": "45352334",
   "metadata": {},
   "outputs": [
    {
     "data": {
      "text/plain": [
       "(4888, 20)"
      ]
     },
     "execution_count": 8,
     "metadata": {},
     "output_type": "execute_result"
    }
   ],
   "source": [
    "df.shape"
   ]
  },
  {
   "cell_type": "code",
   "execution_count": 9,
   "id": "2e36eb81",
   "metadata": {},
   "outputs": [],
   "source": [
    "### check the info of data set"
   ]
  },
  {
   "cell_type": "code",
   "execution_count": 10,
   "id": "98f68506",
   "metadata": {},
   "outputs": [
    {
     "name": "stdout",
     "output_type": "stream",
     "text": [
      "<class 'pandas.core.frame.DataFrame'>\n",
      "RangeIndex: 4888 entries, 0 to 4887\n",
      "Data columns (total 20 columns):\n",
      " #   Column                    Non-Null Count  Dtype  \n",
      "---  ------                    --------------  -----  \n",
      " 0   CustomerID                4888 non-null   int64  \n",
      " 1   ProdTaken                 4888 non-null   int64  \n",
      " 2   Age                       4662 non-null   float64\n",
      " 3   TypeofContact             4863 non-null   object \n",
      " 4   CityTier                  4888 non-null   int64  \n",
      " 5   DurationOfPitch           4637 non-null   float64\n",
      " 6   Occupation                4888 non-null   object \n",
      " 7   Gender                    4888 non-null   object \n",
      " 8   NumberOfPersonVisiting    4888 non-null   int64  \n",
      " 9   NumberOfFollowups         4843 non-null   float64\n",
      " 10  ProductPitched            4888 non-null   object \n",
      " 11  PreferredPropertyStar     4862 non-null   float64\n",
      " 12  MaritalStatus             4888 non-null   object \n",
      " 13  NumberOfTrips             4748 non-null   float64\n",
      " 14  Passport                  4888 non-null   int64  \n",
      " 15  PitchSatisfactionScore    4888 non-null   int64  \n",
      " 16  OwnCar                    4888 non-null   int64  \n",
      " 17  NumberOfChildrenVisiting  4822 non-null   float64\n",
      " 18  Designation               4888 non-null   object \n",
      " 19  MonthlyIncome             4655 non-null   float64\n",
      "dtypes: float64(7), int64(7), object(6)\n",
      "memory usage: 763.9+ KB\n"
     ]
    }
   ],
   "source": [
    "df.info()"
   ]
  },
  {
   "cell_type": "code",
   "execution_count": 11,
   "id": "ad7a9c38",
   "metadata": {},
   "outputs": [
    {
     "data": {
      "text/html": [
       "<div>\n",
       "<style scoped>\n",
       "    .dataframe tbody tr th:only-of-type {\n",
       "        vertical-align: middle;\n",
       "    }\n",
       "\n",
       "    .dataframe tbody tr th {\n",
       "        vertical-align: top;\n",
       "    }\n",
       "\n",
       "    .dataframe thead th {\n",
       "        text-align: right;\n",
       "    }\n",
       "</style>\n",
       "<table border=\"1\" class=\"dataframe\">\n",
       "  <thead>\n",
       "    <tr style=\"text-align: right;\">\n",
       "      <th></th>\n",
       "      <th>CustomerID</th>\n",
       "      <th>ProdTaken</th>\n",
       "      <th>Age</th>\n",
       "      <th>CityTier</th>\n",
       "      <th>DurationOfPitch</th>\n",
       "      <th>NumberOfPersonVisiting</th>\n",
       "      <th>NumberOfFollowups</th>\n",
       "      <th>PreferredPropertyStar</th>\n",
       "      <th>NumberOfTrips</th>\n",
       "      <th>Passport</th>\n",
       "      <th>PitchSatisfactionScore</th>\n",
       "      <th>OwnCar</th>\n",
       "      <th>NumberOfChildrenVisiting</th>\n",
       "      <th>MonthlyIncome</th>\n",
       "    </tr>\n",
       "  </thead>\n",
       "  <tbody>\n",
       "    <tr>\n",
       "      <th>count</th>\n",
       "      <td>4888.000000</td>\n",
       "      <td>4888.000000</td>\n",
       "      <td>4662.000000</td>\n",
       "      <td>4888.000000</td>\n",
       "      <td>4637.000000</td>\n",
       "      <td>4888.000000</td>\n",
       "      <td>4843.000000</td>\n",
       "      <td>4862.000000</td>\n",
       "      <td>4748.000000</td>\n",
       "      <td>4888.000000</td>\n",
       "      <td>4888.000000</td>\n",
       "      <td>4888.000000</td>\n",
       "      <td>4822.000000</td>\n",
       "      <td>4655.000000</td>\n",
       "    </tr>\n",
       "    <tr>\n",
       "      <th>mean</th>\n",
       "      <td>202443.500000</td>\n",
       "      <td>0.188216</td>\n",
       "      <td>37.622265</td>\n",
       "      <td>1.654255</td>\n",
       "      <td>15.490835</td>\n",
       "      <td>2.905074</td>\n",
       "      <td>3.708445</td>\n",
       "      <td>3.581037</td>\n",
       "      <td>3.236521</td>\n",
       "      <td>0.290917</td>\n",
       "      <td>3.078151</td>\n",
       "      <td>0.620295</td>\n",
       "      <td>1.187267</td>\n",
       "      <td>23619.853491</td>\n",
       "    </tr>\n",
       "    <tr>\n",
       "      <th>std</th>\n",
       "      <td>1411.188388</td>\n",
       "      <td>0.390925</td>\n",
       "      <td>9.316387</td>\n",
       "      <td>0.916583</td>\n",
       "      <td>8.519643</td>\n",
       "      <td>0.724891</td>\n",
       "      <td>1.002509</td>\n",
       "      <td>0.798009</td>\n",
       "      <td>1.849019</td>\n",
       "      <td>0.454232</td>\n",
       "      <td>1.365792</td>\n",
       "      <td>0.485363</td>\n",
       "      <td>0.857861</td>\n",
       "      <td>5380.698361</td>\n",
       "    </tr>\n",
       "    <tr>\n",
       "      <th>min</th>\n",
       "      <td>200000.000000</td>\n",
       "      <td>0.000000</td>\n",
       "      <td>18.000000</td>\n",
       "      <td>1.000000</td>\n",
       "      <td>5.000000</td>\n",
       "      <td>1.000000</td>\n",
       "      <td>1.000000</td>\n",
       "      <td>3.000000</td>\n",
       "      <td>1.000000</td>\n",
       "      <td>0.000000</td>\n",
       "      <td>1.000000</td>\n",
       "      <td>0.000000</td>\n",
       "      <td>0.000000</td>\n",
       "      <td>1000.000000</td>\n",
       "    </tr>\n",
       "    <tr>\n",
       "      <th>25%</th>\n",
       "      <td>201221.750000</td>\n",
       "      <td>0.000000</td>\n",
       "      <td>31.000000</td>\n",
       "      <td>1.000000</td>\n",
       "      <td>9.000000</td>\n",
       "      <td>2.000000</td>\n",
       "      <td>3.000000</td>\n",
       "      <td>3.000000</td>\n",
       "      <td>2.000000</td>\n",
       "      <td>0.000000</td>\n",
       "      <td>2.000000</td>\n",
       "      <td>0.000000</td>\n",
       "      <td>1.000000</td>\n",
       "      <td>20346.000000</td>\n",
       "    </tr>\n",
       "    <tr>\n",
       "      <th>50%</th>\n",
       "      <td>202443.500000</td>\n",
       "      <td>0.000000</td>\n",
       "      <td>36.000000</td>\n",
       "      <td>1.000000</td>\n",
       "      <td>13.000000</td>\n",
       "      <td>3.000000</td>\n",
       "      <td>4.000000</td>\n",
       "      <td>3.000000</td>\n",
       "      <td>3.000000</td>\n",
       "      <td>0.000000</td>\n",
       "      <td>3.000000</td>\n",
       "      <td>1.000000</td>\n",
       "      <td>1.000000</td>\n",
       "      <td>22347.000000</td>\n",
       "    </tr>\n",
       "    <tr>\n",
       "      <th>75%</th>\n",
       "      <td>203665.250000</td>\n",
       "      <td>0.000000</td>\n",
       "      <td>44.000000</td>\n",
       "      <td>3.000000</td>\n",
       "      <td>20.000000</td>\n",
       "      <td>3.000000</td>\n",
       "      <td>4.000000</td>\n",
       "      <td>4.000000</td>\n",
       "      <td>4.000000</td>\n",
       "      <td>1.000000</td>\n",
       "      <td>4.000000</td>\n",
       "      <td>1.000000</td>\n",
       "      <td>2.000000</td>\n",
       "      <td>25571.000000</td>\n",
       "    </tr>\n",
       "    <tr>\n",
       "      <th>max</th>\n",
       "      <td>204887.000000</td>\n",
       "      <td>1.000000</td>\n",
       "      <td>61.000000</td>\n",
       "      <td>3.000000</td>\n",
       "      <td>127.000000</td>\n",
       "      <td>5.000000</td>\n",
       "      <td>6.000000</td>\n",
       "      <td>5.000000</td>\n",
       "      <td>22.000000</td>\n",
       "      <td>1.000000</td>\n",
       "      <td>5.000000</td>\n",
       "      <td>1.000000</td>\n",
       "      <td>3.000000</td>\n",
       "      <td>98678.000000</td>\n",
       "    </tr>\n",
       "  </tbody>\n",
       "</table>\n",
       "</div>"
      ],
      "text/plain": [
       "          CustomerID    ProdTaken          Age     CityTier  DurationOfPitch  \\\n",
       "count    4888.000000  4888.000000  4662.000000  4888.000000      4637.000000   \n",
       "mean   202443.500000     0.188216    37.622265     1.654255        15.490835   \n",
       "std      1411.188388     0.390925     9.316387     0.916583         8.519643   \n",
       "min    200000.000000     0.000000    18.000000     1.000000         5.000000   \n",
       "25%    201221.750000     0.000000    31.000000     1.000000         9.000000   \n",
       "50%    202443.500000     0.000000    36.000000     1.000000        13.000000   \n",
       "75%    203665.250000     0.000000    44.000000     3.000000        20.000000   \n",
       "max    204887.000000     1.000000    61.000000     3.000000       127.000000   \n",
       "\n",
       "       NumberOfPersonVisiting  NumberOfFollowups  PreferredPropertyStar  \\\n",
       "count             4888.000000        4843.000000            4862.000000   \n",
       "mean                 2.905074           3.708445               3.581037   \n",
       "std                  0.724891           1.002509               0.798009   \n",
       "min                  1.000000           1.000000               3.000000   \n",
       "25%                  2.000000           3.000000               3.000000   \n",
       "50%                  3.000000           4.000000               3.000000   \n",
       "75%                  3.000000           4.000000               4.000000   \n",
       "max                  5.000000           6.000000               5.000000   \n",
       "\n",
       "       NumberOfTrips     Passport  PitchSatisfactionScore       OwnCar  \\\n",
       "count    4748.000000  4888.000000             4888.000000  4888.000000   \n",
       "mean        3.236521     0.290917                3.078151     0.620295   \n",
       "std         1.849019     0.454232                1.365792     0.485363   \n",
       "min         1.000000     0.000000                1.000000     0.000000   \n",
       "25%         2.000000     0.000000                2.000000     0.000000   \n",
       "50%         3.000000     0.000000                3.000000     1.000000   \n",
       "75%         4.000000     1.000000                4.000000     1.000000   \n",
       "max        22.000000     1.000000                5.000000     1.000000   \n",
       "\n",
       "       NumberOfChildrenVisiting  MonthlyIncome  \n",
       "count               4822.000000    4655.000000  \n",
       "mean                   1.187267   23619.853491  \n",
       "std                    0.857861    5380.698361  \n",
       "min                    0.000000    1000.000000  \n",
       "25%                    1.000000   20346.000000  \n",
       "50%                    1.000000   22347.000000  \n",
       "75%                    2.000000   25571.000000  \n",
       "max                    3.000000   98678.000000  "
      ]
     },
     "execution_count": 11,
     "metadata": {},
     "output_type": "execute_result"
    }
   ],
   "source": [
    "###describe the dataset it show all description like min max percentile\n",
    "df.describe()"
   ]
  },
  {
   "cell_type": "code",
   "execution_count": 12,
   "id": "e99175cf",
   "metadata": {},
   "outputs": [
    {
     "data": {
      "text/html": [
       "<div>\n",
       "<style scoped>\n",
       "    .dataframe tbody tr th:only-of-type {\n",
       "        vertical-align: middle;\n",
       "    }\n",
       "\n",
       "    .dataframe tbody tr th {\n",
       "        vertical-align: top;\n",
       "    }\n",
       "\n",
       "    .dataframe thead th {\n",
       "        text-align: right;\n",
       "    }\n",
       "</style>\n",
       "<table border=\"1\" class=\"dataframe\">\n",
       "  <thead>\n",
       "    <tr style=\"text-align: right;\">\n",
       "      <th></th>\n",
       "      <th>CustomerID</th>\n",
       "      <th>ProdTaken</th>\n",
       "      <th>Age</th>\n",
       "      <th>TypeofContact</th>\n",
       "      <th>CityTier</th>\n",
       "      <th>DurationOfPitch</th>\n",
       "      <th>Occupation</th>\n",
       "      <th>Gender</th>\n",
       "      <th>NumberOfPersonVisiting</th>\n",
       "      <th>NumberOfFollowups</th>\n",
       "      <th>ProductPitched</th>\n",
       "      <th>PreferredPropertyStar</th>\n",
       "      <th>MaritalStatus</th>\n",
       "      <th>NumberOfTrips</th>\n",
       "      <th>Passport</th>\n",
       "      <th>PitchSatisfactionScore</th>\n",
       "      <th>OwnCar</th>\n",
       "      <th>NumberOfChildrenVisiting</th>\n",
       "      <th>Designation</th>\n",
       "      <th>MonthlyIncome</th>\n",
       "    </tr>\n",
       "  </thead>\n",
       "  <tbody>\n",
       "    <tr>\n",
       "      <th>0</th>\n",
       "      <td>False</td>\n",
       "      <td>False</td>\n",
       "      <td>False</td>\n",
       "      <td>False</td>\n",
       "      <td>False</td>\n",
       "      <td>False</td>\n",
       "      <td>False</td>\n",
       "      <td>False</td>\n",
       "      <td>False</td>\n",
       "      <td>False</td>\n",
       "      <td>False</td>\n",
       "      <td>False</td>\n",
       "      <td>False</td>\n",
       "      <td>False</td>\n",
       "      <td>False</td>\n",
       "      <td>False</td>\n",
       "      <td>False</td>\n",
       "      <td>False</td>\n",
       "      <td>False</td>\n",
       "      <td>False</td>\n",
       "    </tr>\n",
       "    <tr>\n",
       "      <th>1</th>\n",
       "      <td>False</td>\n",
       "      <td>False</td>\n",
       "      <td>False</td>\n",
       "      <td>False</td>\n",
       "      <td>False</td>\n",
       "      <td>False</td>\n",
       "      <td>False</td>\n",
       "      <td>False</td>\n",
       "      <td>False</td>\n",
       "      <td>False</td>\n",
       "      <td>False</td>\n",
       "      <td>False</td>\n",
       "      <td>False</td>\n",
       "      <td>False</td>\n",
       "      <td>False</td>\n",
       "      <td>False</td>\n",
       "      <td>False</td>\n",
       "      <td>False</td>\n",
       "      <td>False</td>\n",
       "      <td>False</td>\n",
       "    </tr>\n",
       "    <tr>\n",
       "      <th>2</th>\n",
       "      <td>False</td>\n",
       "      <td>False</td>\n",
       "      <td>False</td>\n",
       "      <td>False</td>\n",
       "      <td>False</td>\n",
       "      <td>False</td>\n",
       "      <td>False</td>\n",
       "      <td>False</td>\n",
       "      <td>False</td>\n",
       "      <td>False</td>\n",
       "      <td>False</td>\n",
       "      <td>False</td>\n",
       "      <td>False</td>\n",
       "      <td>False</td>\n",
       "      <td>False</td>\n",
       "      <td>False</td>\n",
       "      <td>False</td>\n",
       "      <td>False</td>\n",
       "      <td>False</td>\n",
       "      <td>False</td>\n",
       "    </tr>\n",
       "    <tr>\n",
       "      <th>3</th>\n",
       "      <td>False</td>\n",
       "      <td>False</td>\n",
       "      <td>False</td>\n",
       "      <td>False</td>\n",
       "      <td>False</td>\n",
       "      <td>False</td>\n",
       "      <td>False</td>\n",
       "      <td>False</td>\n",
       "      <td>False</td>\n",
       "      <td>False</td>\n",
       "      <td>False</td>\n",
       "      <td>False</td>\n",
       "      <td>False</td>\n",
       "      <td>False</td>\n",
       "      <td>False</td>\n",
       "      <td>False</td>\n",
       "      <td>False</td>\n",
       "      <td>False</td>\n",
       "      <td>False</td>\n",
       "      <td>False</td>\n",
       "    </tr>\n",
       "    <tr>\n",
       "      <th>4</th>\n",
       "      <td>False</td>\n",
       "      <td>False</td>\n",
       "      <td>True</td>\n",
       "      <td>False</td>\n",
       "      <td>False</td>\n",
       "      <td>False</td>\n",
       "      <td>False</td>\n",
       "      <td>False</td>\n",
       "      <td>False</td>\n",
       "      <td>False</td>\n",
       "      <td>False</td>\n",
       "      <td>False</td>\n",
       "      <td>False</td>\n",
       "      <td>False</td>\n",
       "      <td>False</td>\n",
       "      <td>False</td>\n",
       "      <td>False</td>\n",
       "      <td>False</td>\n",
       "      <td>False</td>\n",
       "      <td>False</td>\n",
       "    </tr>\n",
       "    <tr>\n",
       "      <th>...</th>\n",
       "      <td>...</td>\n",
       "      <td>...</td>\n",
       "      <td>...</td>\n",
       "      <td>...</td>\n",
       "      <td>...</td>\n",
       "      <td>...</td>\n",
       "      <td>...</td>\n",
       "      <td>...</td>\n",
       "      <td>...</td>\n",
       "      <td>...</td>\n",
       "      <td>...</td>\n",
       "      <td>...</td>\n",
       "      <td>...</td>\n",
       "      <td>...</td>\n",
       "      <td>...</td>\n",
       "      <td>...</td>\n",
       "      <td>...</td>\n",
       "      <td>...</td>\n",
       "      <td>...</td>\n",
       "      <td>...</td>\n",
       "    </tr>\n",
       "    <tr>\n",
       "      <th>4883</th>\n",
       "      <td>False</td>\n",
       "      <td>False</td>\n",
       "      <td>False</td>\n",
       "      <td>False</td>\n",
       "      <td>False</td>\n",
       "      <td>False</td>\n",
       "      <td>False</td>\n",
       "      <td>False</td>\n",
       "      <td>False</td>\n",
       "      <td>False</td>\n",
       "      <td>False</td>\n",
       "      <td>False</td>\n",
       "      <td>False</td>\n",
       "      <td>False</td>\n",
       "      <td>False</td>\n",
       "      <td>False</td>\n",
       "      <td>False</td>\n",
       "      <td>False</td>\n",
       "      <td>False</td>\n",
       "      <td>False</td>\n",
       "    </tr>\n",
       "    <tr>\n",
       "      <th>4884</th>\n",
       "      <td>False</td>\n",
       "      <td>False</td>\n",
       "      <td>False</td>\n",
       "      <td>False</td>\n",
       "      <td>False</td>\n",
       "      <td>False</td>\n",
       "      <td>False</td>\n",
       "      <td>False</td>\n",
       "      <td>False</td>\n",
       "      <td>False</td>\n",
       "      <td>False</td>\n",
       "      <td>False</td>\n",
       "      <td>False</td>\n",
       "      <td>False</td>\n",
       "      <td>False</td>\n",
       "      <td>False</td>\n",
       "      <td>False</td>\n",
       "      <td>False</td>\n",
       "      <td>False</td>\n",
       "      <td>False</td>\n",
       "    </tr>\n",
       "    <tr>\n",
       "      <th>4885</th>\n",
       "      <td>False</td>\n",
       "      <td>False</td>\n",
       "      <td>False</td>\n",
       "      <td>False</td>\n",
       "      <td>False</td>\n",
       "      <td>False</td>\n",
       "      <td>False</td>\n",
       "      <td>False</td>\n",
       "      <td>False</td>\n",
       "      <td>False</td>\n",
       "      <td>False</td>\n",
       "      <td>False</td>\n",
       "      <td>False</td>\n",
       "      <td>False</td>\n",
       "      <td>False</td>\n",
       "      <td>False</td>\n",
       "      <td>False</td>\n",
       "      <td>False</td>\n",
       "      <td>False</td>\n",
       "      <td>False</td>\n",
       "    </tr>\n",
       "    <tr>\n",
       "      <th>4886</th>\n",
       "      <td>False</td>\n",
       "      <td>False</td>\n",
       "      <td>False</td>\n",
       "      <td>False</td>\n",
       "      <td>False</td>\n",
       "      <td>False</td>\n",
       "      <td>False</td>\n",
       "      <td>False</td>\n",
       "      <td>False</td>\n",
       "      <td>False</td>\n",
       "      <td>False</td>\n",
       "      <td>False</td>\n",
       "      <td>False</td>\n",
       "      <td>False</td>\n",
       "      <td>False</td>\n",
       "      <td>False</td>\n",
       "      <td>False</td>\n",
       "      <td>False</td>\n",
       "      <td>False</td>\n",
       "      <td>False</td>\n",
       "    </tr>\n",
       "    <tr>\n",
       "      <th>4887</th>\n",
       "      <td>False</td>\n",
       "      <td>False</td>\n",
       "      <td>False</td>\n",
       "      <td>False</td>\n",
       "      <td>False</td>\n",
       "      <td>False</td>\n",
       "      <td>False</td>\n",
       "      <td>False</td>\n",
       "      <td>False</td>\n",
       "      <td>False</td>\n",
       "      <td>False</td>\n",
       "      <td>False</td>\n",
       "      <td>False</td>\n",
       "      <td>False</td>\n",
       "      <td>False</td>\n",
       "      <td>False</td>\n",
       "      <td>False</td>\n",
       "      <td>False</td>\n",
       "      <td>False</td>\n",
       "      <td>False</td>\n",
       "    </tr>\n",
       "  </tbody>\n",
       "</table>\n",
       "<p>4888 rows × 20 columns</p>\n",
       "</div>"
      ],
      "text/plain": [
       "      CustomerID  ProdTaken    Age  TypeofContact  CityTier  DurationOfPitch  \\\n",
       "0          False      False  False          False     False            False   \n",
       "1          False      False  False          False     False            False   \n",
       "2          False      False  False          False     False            False   \n",
       "3          False      False  False          False     False            False   \n",
       "4          False      False   True          False     False            False   \n",
       "...          ...        ...    ...            ...       ...              ...   \n",
       "4883       False      False  False          False     False            False   \n",
       "4884       False      False  False          False     False            False   \n",
       "4885       False      False  False          False     False            False   \n",
       "4886       False      False  False          False     False            False   \n",
       "4887       False      False  False          False     False            False   \n",
       "\n",
       "      Occupation  Gender  NumberOfPersonVisiting  NumberOfFollowups  \\\n",
       "0          False   False                   False              False   \n",
       "1          False   False                   False              False   \n",
       "2          False   False                   False              False   \n",
       "3          False   False                   False              False   \n",
       "4          False   False                   False              False   \n",
       "...          ...     ...                     ...                ...   \n",
       "4883       False   False                   False              False   \n",
       "4884       False   False                   False              False   \n",
       "4885       False   False                   False              False   \n",
       "4886       False   False                   False              False   \n",
       "4887       False   False                   False              False   \n",
       "\n",
       "      ProductPitched  PreferredPropertyStar  MaritalStatus  NumberOfTrips  \\\n",
       "0              False                  False          False          False   \n",
       "1              False                  False          False          False   \n",
       "2              False                  False          False          False   \n",
       "3              False                  False          False          False   \n",
       "4              False                  False          False          False   \n",
       "...              ...                    ...            ...            ...   \n",
       "4883           False                  False          False          False   \n",
       "4884           False                  False          False          False   \n",
       "4885           False                  False          False          False   \n",
       "4886           False                  False          False          False   \n",
       "4887           False                  False          False          False   \n",
       "\n",
       "      Passport  PitchSatisfactionScore  OwnCar  NumberOfChildrenVisiting  \\\n",
       "0        False                   False   False                     False   \n",
       "1        False                   False   False                     False   \n",
       "2        False                   False   False                     False   \n",
       "3        False                   False   False                     False   \n",
       "4        False                   False   False                     False   \n",
       "...        ...                     ...     ...                       ...   \n",
       "4883     False                   False   False                     False   \n",
       "4884     False                   False   False                     False   \n",
       "4885     False                   False   False                     False   \n",
       "4886     False                   False   False                     False   \n",
       "4887     False                   False   False                     False   \n",
       "\n",
       "      Designation  MonthlyIncome  \n",
       "0           False          False  \n",
       "1           False          False  \n",
       "2           False          False  \n",
       "3           False          False  \n",
       "4           False          False  \n",
       "...           ...            ...  \n",
       "4883        False          False  \n",
       "4884        False          False  \n",
       "4885        False          False  \n",
       "4886        False          False  \n",
       "4887        False          False  \n",
       "\n",
       "[4888 rows x 20 columns]"
      ]
     },
     "execution_count": 12,
     "metadata": {},
     "output_type": "execute_result"
    }
   ],
   "source": [
    "### check for null value\n",
    "df.isnull()"
   ]
  },
  {
   "cell_type": "code",
   "execution_count": 13,
   "id": "fd24f434",
   "metadata": {},
   "outputs": [
    {
     "data": {
      "text/plain": [
       "CustomerID                    0\n",
       "ProdTaken                     0\n",
       "Age                         226\n",
       "TypeofContact                25\n",
       "CityTier                      0\n",
       "DurationOfPitch             251\n",
       "Occupation                    0\n",
       "Gender                        0\n",
       "NumberOfPersonVisiting        0\n",
       "NumberOfFollowups            45\n",
       "ProductPitched                0\n",
       "PreferredPropertyStar        26\n",
       "MaritalStatus                 0\n",
       "NumberOfTrips               140\n",
       "Passport                      0\n",
       "PitchSatisfactionScore        0\n",
       "OwnCar                        0\n",
       "NumberOfChildrenVisiting     66\n",
       "Designation                   0\n",
       "MonthlyIncome               233\n",
       "dtype: int64"
      ]
     },
     "execution_count": 13,
     "metadata": {},
     "output_type": "execute_result"
    }
   ],
   "source": [
    "## show how many null values in columns\n",
    "df.isnull().sum()"
   ]
  },
  {
   "cell_type": "raw",
   "id": "863361d2",
   "metadata": {},
   "source": [
    "Data set have some null values so it can be handeled by Feature Engineering"
   ]
  },
  {
   "cell_type": "code",
   "execution_count": 14,
   "id": "53f06703",
   "metadata": {},
   "outputs": [],
   "source": [
    "### Handling the Missing Value through with different techniques\n"
   ]
  },
  {
   "cell_type": "code",
   "execution_count": 15,
   "id": "ef8542b7",
   "metadata": {},
   "outputs": [
    {
     "data": {
      "text/plain": [
       "0       41.0\n",
       "1       49.0\n",
       "2       37.0\n",
       "3       33.0\n",
       "4        NaN\n",
       "        ... \n",
       "4883    49.0\n",
       "4884    28.0\n",
       "4885    52.0\n",
       "4886    19.0\n",
       "4887    36.0\n",
       "Name: Age, Length: 4888, dtype: float64"
      ]
     },
     "execution_count": 15,
     "metadata": {},
     "output_type": "execute_result"
    }
   ],
   "source": [
    "df['Age']"
   ]
  },
  {
   "cell_type": "code",
   "execution_count": 16,
   "id": "e479f93d",
   "metadata": {},
   "outputs": [
    {
     "data": {
      "text/plain": [
       "37.62226512226512"
      ]
     },
     "execution_count": 16,
     "metadata": {},
     "output_type": "execute_result"
    }
   ],
   "source": [
    "np.mean(df['Age'])"
   ]
  },
  {
   "cell_type": "code",
   "execution_count": 17,
   "id": "70152470",
   "metadata": {},
   "outputs": [
    {
     "data": {
      "text/plain": [
       "18.0"
      ]
     },
     "execution_count": 17,
     "metadata": {},
     "output_type": "execute_result"
    }
   ],
   "source": [
    "np.min(df['Age'])"
   ]
  },
  {
   "cell_type": "code",
   "execution_count": 18,
   "id": "36aac6e7",
   "metadata": {},
   "outputs": [
    {
     "data": {
      "text/plain": [
       "61.0"
      ]
     },
     "execution_count": 18,
     "metadata": {},
     "output_type": "execute_result"
    }
   ],
   "source": [
    "np.max(df['Age'])"
   ]
  },
  {
   "cell_type": "raw",
   "id": "f1bfa83c",
   "metadata": {},
   "source": [
    "Here I will fill missing Value with mean"
   ]
  },
  {
   "cell_type": "code",
   "execution_count": 19,
   "id": "36b0c225",
   "metadata": {},
   "outputs": [],
   "source": [
    "df['Age'].fillna(np.mean(df['Age']),inplace=True)"
   ]
  },
  {
   "cell_type": "code",
   "execution_count": 20,
   "id": "7feeab19",
   "metadata": {},
   "outputs": [
    {
     "data": {
      "text/plain": [
       "0"
      ]
     },
     "execution_count": 20,
     "metadata": {},
     "output_type": "execute_result"
    }
   ],
   "source": [
    "df['Age'].isnull().sum()"
   ]
  },
  {
   "cell_type": "code",
   "execution_count": 21,
   "id": "c1ba8b6d",
   "metadata": {},
   "outputs": [
    {
     "data": {
      "text/plain": [
       "0          Self Enquiry\n",
       "1       Company Invited\n",
       "2          Self Enquiry\n",
       "3       Company Invited\n",
       "4          Self Enquiry\n",
       "             ...       \n",
       "4883       Self Enquiry\n",
       "4884    Company Invited\n",
       "4885       Self Enquiry\n",
       "4886       Self Enquiry\n",
       "4887       Self Enquiry\n",
       "Name: TypeofContact, Length: 4888, dtype: object"
      ]
     },
     "execution_count": 21,
     "metadata": {},
     "output_type": "execute_result"
    }
   ],
   "source": [
    "df['TypeofContact']"
   ]
  },
  {
   "cell_type": "markdown",
   "id": "8a23659f",
   "metadata": {},
   "source": [
    "TypeofContact is catagorial value so use mode to fill the missing value"
   ]
  },
  {
   "cell_type": "code",
   "execution_count": 22,
   "id": "1a7542b1",
   "metadata": {},
   "outputs": [
    {
     "data": {
      "text/plain": [
       "'Self Enquiry'"
      ]
     },
     "execution_count": 22,
     "metadata": {},
     "output_type": "execute_result"
    }
   ],
   "source": [
    "df['TypeofContact'].mode()[0]"
   ]
  },
  {
   "cell_type": "code",
   "execution_count": 23,
   "id": "3cf3f67d",
   "metadata": {},
   "outputs": [],
   "source": [
    "df['TypeofContact'].fillna((df['TypeofContact'].mode()[0]),inplace=True)"
   ]
  },
  {
   "cell_type": "code",
   "execution_count": 24,
   "id": "7d830846",
   "metadata": {},
   "outputs": [
    {
     "data": {
      "text/plain": [
       "0"
      ]
     },
     "execution_count": 24,
     "metadata": {},
     "output_type": "execute_result"
    }
   ],
   "source": [
    "df['TypeofContact'].isnull().sum()"
   ]
  },
  {
   "cell_type": "code",
   "execution_count": 25,
   "id": "4a14fffa",
   "metadata": {},
   "outputs": [
    {
     "data": {
      "text/plain": [
       "0        6.0\n",
       "1       14.0\n",
       "2        8.0\n",
       "3        9.0\n",
       "4        8.0\n",
       "        ... \n",
       "4883     9.0\n",
       "4884    31.0\n",
       "4885    17.0\n",
       "4886    16.0\n",
       "4887    14.0\n",
       "Name: DurationOfPitch, Length: 4888, dtype: float64"
      ]
     },
     "execution_count": 25,
     "metadata": {},
     "output_type": "execute_result"
    }
   ],
   "source": [
    "df['DurationOfPitch']"
   ]
  },
  {
   "cell_type": "code",
   "execution_count": 26,
   "id": "faf05bf4",
   "metadata": {},
   "outputs": [
    {
     "data": {
      "text/plain": [
       "15.490834591330602"
      ]
     },
     "execution_count": 26,
     "metadata": {},
     "output_type": "execute_result"
    }
   ],
   "source": [
    "### handle with meadin / mean \n",
    "np.mean(df['DurationOfPitch'])"
   ]
  },
  {
   "cell_type": "code",
   "execution_count": 27,
   "id": "9ad3ee80",
   "metadata": {},
   "outputs": [
    {
     "data": {
      "text/plain": [
       "nan"
      ]
     },
     "execution_count": 27,
     "metadata": {},
     "output_type": "execute_result"
    }
   ],
   "source": [
    "np.median(df['DurationOfPitch'])"
   ]
  },
  {
   "cell_type": "code",
   "execution_count": 28,
   "id": "4b425402",
   "metadata": {},
   "outputs": [],
   "source": [
    "df['DurationOfPitch'].fillna(np.mean(df['DurationOfPitch']),inplace=True)"
   ]
  },
  {
   "cell_type": "code",
   "execution_count": 29,
   "id": "660a976b",
   "metadata": {},
   "outputs": [
    {
     "data": {
      "text/plain": [
       "0"
      ]
     },
     "execution_count": 29,
     "metadata": {},
     "output_type": "execute_result"
    }
   ],
   "source": [
    "df['DurationOfPitch'].isnull().sum()"
   ]
  },
  {
   "cell_type": "code",
   "execution_count": 30,
   "id": "b55ceace",
   "metadata": {},
   "outputs": [
    {
     "data": {
      "text/plain": [
       "0       3.0\n",
       "1       4.0\n",
       "2       4.0\n",
       "3       3.0\n",
       "4       3.0\n",
       "       ... \n",
       "4883    5.0\n",
       "4884    5.0\n",
       "4885    4.0\n",
       "4886    4.0\n",
       "4887    4.0\n",
       "Name: NumberOfFollowups, Length: 4888, dtype: float64"
      ]
     },
     "execution_count": 30,
     "metadata": {},
     "output_type": "execute_result"
    }
   ],
   "source": [
    "df['NumberOfFollowups']"
   ]
  },
  {
   "cell_type": "code",
   "execution_count": 31,
   "id": "13c76b65",
   "metadata": {},
   "outputs": [
    {
     "data": {
      "text/plain": [
       "3.708445178608301"
      ]
     },
     "execution_count": 31,
     "metadata": {},
     "output_type": "execute_result"
    }
   ],
   "source": [
    "### fill missig value with mean / medain\n",
    "np.mean(df['NumberOfFollowups'])"
   ]
  },
  {
   "cell_type": "code",
   "execution_count": 32,
   "id": "73acd425",
   "metadata": {},
   "outputs": [
    {
     "data": {
      "text/plain": [
       "nan"
      ]
     },
     "execution_count": 32,
     "metadata": {},
     "output_type": "execute_result"
    }
   ],
   "source": [
    "np.median(df['NumberOfFollowups'])"
   ]
  },
  {
   "cell_type": "code",
   "execution_count": 33,
   "id": "cf21def5",
   "metadata": {},
   "outputs": [],
   "source": [
    "df['NumberOfFollowups'].fillna(np.mean(df['NumberOfFollowups']),inplace=True)"
   ]
  },
  {
   "cell_type": "code",
   "execution_count": 34,
   "id": "7c1802fc",
   "metadata": {},
   "outputs": [
    {
     "data": {
      "text/plain": [
       "0"
      ]
     },
     "execution_count": 34,
     "metadata": {},
     "output_type": "execute_result"
    }
   ],
   "source": [
    "df['NumberOfFollowups'].isnull().sum()"
   ]
  },
  {
   "cell_type": "code",
   "execution_count": 35,
   "id": "fd3cae6d",
   "metadata": {},
   "outputs": [
    {
     "data": {
      "text/plain": [
       "0       3.0\n",
       "1       4.0\n",
       "2       3.0\n",
       "3       3.0\n",
       "4       4.0\n",
       "       ... \n",
       "4883    4.0\n",
       "4884    3.0\n",
       "4885    4.0\n",
       "4886    3.0\n",
       "4887    4.0\n",
       "Name: PreferredPropertyStar, Length: 4888, dtype: float64"
      ]
     },
     "execution_count": 35,
     "metadata": {},
     "output_type": "execute_result"
    }
   ],
   "source": [
    "df['PreferredPropertyStar']"
   ]
  },
  {
   "cell_type": "code",
   "execution_count": 36,
   "id": "55de4120",
   "metadata": {},
   "outputs": [
    {
     "data": {
      "text/plain": [
       "nan"
      ]
     },
     "execution_count": 36,
     "metadata": {},
     "output_type": "execute_result"
    }
   ],
   "source": [
    "### missing value handle with mean / median\n",
    "np.median(df['PreferredPropertyStar'])"
   ]
  },
  {
   "cell_type": "code",
   "execution_count": 37,
   "id": "6ef65298",
   "metadata": {},
   "outputs": [
    {
     "data": {
      "text/plain": [
       "3.581036610448375"
      ]
     },
     "execution_count": 37,
     "metadata": {},
     "output_type": "execute_result"
    }
   ],
   "source": [
    "np.mean(df['PreferredPropertyStar'])"
   ]
  },
  {
   "cell_type": "code",
   "execution_count": 38,
   "id": "a0acf5c9",
   "metadata": {},
   "outputs": [
    {
     "data": {
      "text/plain": [
       "3.0"
      ]
     },
     "execution_count": 38,
     "metadata": {},
     "output_type": "execute_result"
    }
   ],
   "source": [
    "np.min(df['PreferredPropertyStar'])"
   ]
  },
  {
   "cell_type": "code",
   "execution_count": 39,
   "id": "692777e8",
   "metadata": {},
   "outputs": [
    {
     "data": {
      "text/plain": [
       "5.0"
      ]
     },
     "execution_count": 39,
     "metadata": {},
     "output_type": "execute_result"
    }
   ],
   "source": [
    "np.max(df['PreferredPropertyStar'])"
   ]
  },
  {
   "cell_type": "code",
   "execution_count": 40,
   "id": "a7c8d6ed",
   "metadata": {},
   "outputs": [],
   "source": [
    "df['PreferredPropertyStar'].fillna(np.mean(df['PreferredPropertyStar']),inplace=True)"
   ]
  },
  {
   "cell_type": "code",
   "execution_count": 41,
   "id": "d4acc00d",
   "metadata": {},
   "outputs": [
    {
     "data": {
      "text/plain": [
       "0"
      ]
     },
     "execution_count": 41,
     "metadata": {},
     "output_type": "execute_result"
    }
   ],
   "source": [
    "df['PreferredPropertyStar'].isnull().sum()"
   ]
  },
  {
   "cell_type": "code",
   "execution_count": 42,
   "id": "7630bddb",
   "metadata": {},
   "outputs": [
    {
     "data": {
      "text/plain": [
       "0       1.0\n",
       "1       2.0\n",
       "2       7.0\n",
       "3       2.0\n",
       "4       1.0\n",
       "       ... \n",
       "4883    2.0\n",
       "4884    3.0\n",
       "4885    7.0\n",
       "4886    3.0\n",
       "4887    3.0\n",
       "Name: NumberOfTrips, Length: 4888, dtype: float64"
      ]
     },
     "execution_count": 42,
     "metadata": {},
     "output_type": "execute_result"
    }
   ],
   "source": [
    "df['NumberOfTrips']"
   ]
  },
  {
   "cell_type": "code",
   "execution_count": 43,
   "id": "e7e5d8b4",
   "metadata": {},
   "outputs": [
    {
     "data": {
      "text/plain": [
       "22.0"
      ]
     },
     "execution_count": 43,
     "metadata": {},
     "output_type": "execute_result"
    }
   ],
   "source": [
    "np.max(df['NumberOfTrips'])"
   ]
  },
  {
   "cell_type": "code",
   "execution_count": 44,
   "id": "265f2697",
   "metadata": {},
   "outputs": [
    {
     "data": {
      "text/plain": [
       "1.0"
      ]
     },
     "execution_count": 44,
     "metadata": {},
     "output_type": "execute_result"
    }
   ],
   "source": [
    "np.min(df['NumberOfTrips'])"
   ]
  },
  {
   "cell_type": "code",
   "execution_count": 45,
   "id": "365b4c37",
   "metadata": {},
   "outputs": [
    {
     "data": {
      "text/plain": [
       "0    2.0\n",
       "dtype: float64"
      ]
     },
     "execution_count": 45,
     "metadata": {},
     "output_type": "execute_result"
    }
   ],
   "source": [
    "df['NumberOfTrips'].mode()"
   ]
  },
  {
   "cell_type": "code",
   "execution_count": 46,
   "id": "d14ebe28",
   "metadata": {},
   "outputs": [],
   "source": [
    "### use mode to replace null value\n",
    "df['NumberOfTrips'].fillna(df['NumberOfTrips'].mode()[0],inplace=True)"
   ]
  },
  {
   "cell_type": "code",
   "execution_count": 47,
   "id": "3ad3ae92",
   "metadata": {},
   "outputs": [
    {
     "data": {
      "text/plain": [
       "0"
      ]
     },
     "execution_count": 47,
     "metadata": {},
     "output_type": "execute_result"
    }
   ],
   "source": [
    "df['NumberOfTrips'].isnull().sum()"
   ]
  },
  {
   "cell_type": "code",
   "execution_count": 48,
   "id": "53cb96df",
   "metadata": {},
   "outputs": [
    {
     "data": {
      "text/plain": [
       "0       0.0\n",
       "1       2.0\n",
       "2       0.0\n",
       "3       1.0\n",
       "4       0.0\n",
       "       ... \n",
       "4883    1.0\n",
       "4884    2.0\n",
       "4885    3.0\n",
       "4886    2.0\n",
       "4887    2.0\n",
       "Name: NumberOfChildrenVisiting, Length: 4888, dtype: float64"
      ]
     },
     "execution_count": 48,
     "metadata": {},
     "output_type": "execute_result"
    }
   ],
   "source": [
    "df['NumberOfChildrenVisiting']"
   ]
  },
  {
   "cell_type": "code",
   "execution_count": 49,
   "id": "97d2cd6e",
   "metadata": {},
   "outputs": [
    {
     "data": {
      "text/plain": [
       "1.1872666943177106"
      ]
     },
     "execution_count": 49,
     "metadata": {},
     "output_type": "execute_result"
    }
   ],
   "source": [
    "np.mean(df['NumberOfChildrenVisiting'])"
   ]
  },
  {
   "cell_type": "code",
   "execution_count": 50,
   "id": "1b147489",
   "metadata": {},
   "outputs": [
    {
     "data": {
      "text/plain": [
       "nan"
      ]
     },
     "execution_count": 50,
     "metadata": {},
     "output_type": "execute_result"
    }
   ],
   "source": [
    "np.median(df['NumberOfChildrenVisiting'])"
   ]
  },
  {
   "cell_type": "code",
   "execution_count": 51,
   "id": "37b743b8",
   "metadata": {},
   "outputs": [
    {
     "data": {
      "text/plain": [
       "0.0"
      ]
     },
     "execution_count": 51,
     "metadata": {},
     "output_type": "execute_result"
    }
   ],
   "source": [
    "np.min(df['NumberOfChildrenVisiting'])"
   ]
  },
  {
   "cell_type": "code",
   "execution_count": 52,
   "id": "59609c79",
   "metadata": {},
   "outputs": [
    {
     "data": {
      "text/plain": [
       "3.0"
      ]
     },
     "execution_count": 52,
     "metadata": {},
     "output_type": "execute_result"
    }
   ],
   "source": [
    "np.max(df['NumberOfChildrenVisiting'])"
   ]
  },
  {
   "cell_type": "code",
   "execution_count": 53,
   "id": "49bd07dc",
   "metadata": {},
   "outputs": [],
   "source": [
    "df['NumberOfChildrenVisiting'].fillna(np.mean(df['NumberOfChildrenVisiting']),inplace=True)"
   ]
  },
  {
   "cell_type": "code",
   "execution_count": 54,
   "id": "a1ebbfc3",
   "metadata": {},
   "outputs": [
    {
     "data": {
      "text/plain": [
       "0"
      ]
     },
     "execution_count": 54,
     "metadata": {},
     "output_type": "execute_result"
    }
   ],
   "source": [
    "df['NumberOfChildrenVisiting'].isnull().sum()"
   ]
  },
  {
   "cell_type": "code",
   "execution_count": 55,
   "id": "e0fbf8d4",
   "metadata": {},
   "outputs": [
    {
     "data": {
      "text/plain": [
       "0       20993.0\n",
       "1       20130.0\n",
       "2       17090.0\n",
       "3       17909.0\n",
       "4       18468.0\n",
       "         ...   \n",
       "4883    26576.0\n",
       "4884    21212.0\n",
       "4885    31820.0\n",
       "4886    20289.0\n",
       "4887    24041.0\n",
       "Name: MonthlyIncome, Length: 4888, dtype: float64"
      ]
     },
     "execution_count": 55,
     "metadata": {},
     "output_type": "execute_result"
    }
   ],
   "source": [
    "df['MonthlyIncome']"
   ]
  },
  {
   "cell_type": "code",
   "execution_count": 56,
   "id": "389c732b",
   "metadata": {},
   "outputs": [
    {
     "data": {
      "text/plain": [
       "23619.85349087003"
      ]
     },
     "execution_count": 56,
     "metadata": {},
     "output_type": "execute_result"
    }
   ],
   "source": [
    "### income is continous value so use mean / median\n",
    "np.mean(df['MonthlyIncome'])"
   ]
  },
  {
   "cell_type": "code",
   "execution_count": 57,
   "id": "d4d602fc",
   "metadata": {},
   "outputs": [
    {
     "data": {
      "text/plain": [
       "nan"
      ]
     },
     "execution_count": 57,
     "metadata": {},
     "output_type": "execute_result"
    }
   ],
   "source": [
    "np.median(df['MonthlyIncome'])"
   ]
  },
  {
   "cell_type": "code",
   "execution_count": 58,
   "id": "67b3cccf",
   "metadata": {},
   "outputs": [],
   "source": [
    "df['MonthlyIncome'].fillna(np.mean(df['MonthlyIncome']),inplace=True)"
   ]
  },
  {
   "cell_type": "code",
   "execution_count": 59,
   "id": "925588ec",
   "metadata": {},
   "outputs": [
    {
     "data": {
      "text/plain": [
       "0"
      ]
     },
     "execution_count": 59,
     "metadata": {},
     "output_type": "execute_result"
    }
   ],
   "source": [
    "df['MonthlyIncome'].isnull().sum()"
   ]
  },
  {
   "cell_type": "code",
   "execution_count": 60,
   "id": "58cd437e",
   "metadata": {},
   "outputs": [
    {
     "data": {
      "text/plain": [
       "CustomerID                  0\n",
       "ProdTaken                   0\n",
       "Age                         0\n",
       "TypeofContact               0\n",
       "CityTier                    0\n",
       "DurationOfPitch             0\n",
       "Occupation                  0\n",
       "Gender                      0\n",
       "NumberOfPersonVisiting      0\n",
       "NumberOfFollowups           0\n",
       "ProductPitched              0\n",
       "PreferredPropertyStar       0\n",
       "MaritalStatus               0\n",
       "NumberOfTrips               0\n",
       "Passport                    0\n",
       "PitchSatisfactionScore      0\n",
       "OwnCar                      0\n",
       "NumberOfChildrenVisiting    0\n",
       "Designation                 0\n",
       "MonthlyIncome               0\n",
       "dtype: int64"
      ]
     },
     "execution_count": 60,
     "metadata": {},
     "output_type": "execute_result"
    }
   ],
   "source": [
    "### all missing value is handled now let see\n",
    "df.isnull().sum()"
   ]
  },
  {
   "cell_type": "markdown",
   "id": "a792da6e",
   "metadata": {},
   "source": [
    "# Visualization"
   ]
  },
  {
   "cell_type": "code",
   "execution_count": 61,
   "id": "ce93765b",
   "metadata": {},
   "outputs": [
    {
     "data": {
      "text/plain": [
       "['TypeofContact',\n",
       " 'Occupation',\n",
       " 'Gender',\n",
       " 'ProductPitched',\n",
       " 'MaritalStatus',\n",
       " 'Designation']"
      ]
     },
     "execution_count": 61,
     "metadata": {},
     "output_type": "execute_result"
    }
   ],
   "source": [
    "##### check catagorical columns\n",
    "columns_categorical =[columns for columns in df.columns if df[columns].dtypes == 'object']\n",
    "columns_categorical"
   ]
  },
  {
   "cell_type": "code",
   "execution_count": 62,
   "id": "5a85a285",
   "metadata": {},
   "outputs": [
    {
     "data": {
      "text/plain": [
       "['CustomerID',\n",
       " 'ProdTaken',\n",
       " 'Age',\n",
       " 'CityTier',\n",
       " 'DurationOfPitch',\n",
       " 'NumberOfPersonVisiting',\n",
       " 'NumberOfFollowups',\n",
       " 'PreferredPropertyStar',\n",
       " 'NumberOfTrips',\n",
       " 'Passport',\n",
       " 'PitchSatisfactionScore',\n",
       " 'OwnCar',\n",
       " 'NumberOfChildrenVisiting',\n",
       " 'MonthlyIncome']"
      ]
     },
     "execution_count": 62,
     "metadata": {},
     "output_type": "execute_result"
    }
   ],
   "source": [
    "#### check for Numerical Columns\n",
    "columns_numerical_feature =[columns for columns in df.columns if df[columns].dtypes != 'object']\n",
    "columns_numerical_feature"
   ]
  },
  {
   "cell_type": "code",
   "execution_count": 63,
   "id": "dd16d6da",
   "metadata": {},
   "outputs": [
    {
     "data": {
      "image/png": "[encoded data removed]",
      "text/plain": [
       "<Figure size 1080x1080 with 14 Axes>"
      ]
     },
     "metadata": {
      "needs_background": "light"
     },
     "output_type": "display_data"
    }
   ],
   "source": [
    "plt.figure(figsize=(15, 15))\n",
    "plt.suptitle('Univariate Analysis of Numerical Features', fontsize=20, fontweight='bold', alpha=0.8, y=1.)\n",
    "\n",
    "for i in range(0, len(columns_numerical_feature)):\n",
    "    plt.subplot(5, 3, i+1)\n",
    "    sns.distplot(x=df[columns_numerical_feature[i]],color='g')\n",
    "    plt.xlabel(columns_numerical_feature[i])\n",
    "    plt.tight_layout()"
   ]
  },
  {
   "cell_type": "code",
   "execution_count": 69,
   "id": "b1b3f6f6",
   "metadata": {},
   "outputs": [
    {
     "data": {
      "text/plain": [
       "<AxesSubplot:xlabel='MonthlyIncome', ylabel='Age'>"
      ]
     },
     "execution_count": 69,
     "metadata": {},
     "output_type": "execute_result"
    },
    {
     "data": {
      "image/png": "[encoded data removed]",
      "text/plain": [
       "<Figure size 432x288 with 1 Axes>"
      ]
     },
     "metadata": {
      "needs_background": "light"
     },
     "output_type": "display_data"
    }
   ],
   "source": [
    "sns.scatterplot(data=df, x=\"MonthlyIncome\", y=\"Age\")"
   ]
  },
  {
   "cell_type": "markdown",
   "id": "3cc017ca",
   "metadata": {},
   "source": [
    "- age wise income is increasing\n",
    "- more age showing more income"
   ]
  },
  {
   "cell_type": "markdown",
   "id": "7412eed2",
   "metadata": {},
   "source": [
    "# Bivariate Analysis"
   ]
  },
  {
   "cell_type": "code",
   "execution_count": 90,
   "id": "9d2269a8",
   "metadata": {},
   "outputs": [
    {
     "data": {
      "text/plain": [
       "<AxesSubplot:xlabel='Gender', ylabel='MonthlyIncome'>"
      ]
     },
     "execution_count": 90,
     "metadata": {},
     "output_type": "execute_result"
    },
    {
     "data": {
      "image/png": "[encoded data removed]",
      "text/plain": [
       "<Figure size 432x288 with 1 Axes>"
      ]
     },
     "metadata": {
      "needs_background": "light"
     },
     "output_type": "display_data"
    }
   ],
   "source": [
    "sns.barplot(x ='Gender', y ='MonthlyIncome', data = df,\n",
    "            palette ='plasma', estimator = np.std)"
   ]
  },
  {
   "cell_type": "markdown",
   "id": "15b26bab",
   "metadata": {},
   "source": [
    "- here it is showing two columns of female with it can consider as one\n"
   ]
  },
  {
   "cell_type": "code",
   "execution_count": 87,
   "id": "d4e5221e",
   "metadata": {},
   "outputs": [],
   "source": [
    "df['Gender'] = df['Gender'].replace(['Fe Male'],'Female')"
   ]
  },
  {
   "cell_type": "code",
   "execution_count": 88,
   "id": "2da5743c",
   "metadata": {},
   "outputs": [
    {
     "data": {
      "text/plain": [
       "<AxesSubplot:xlabel='Gender', ylabel='MonthlyIncome'>"
      ]
     },
     "execution_count": 88,
     "metadata": {},
     "output_type": "execute_result"
    },
    {
     "data": {
      "image/png": "[encoded data removed]",
      "text/plain": [
       "<Figure size 432x288 with 1 Axes>"
      ]
     },
     "metadata": {
      "needs_background": "light"
     },
     "output_type": "display_data"
    }
   ],
   "source": [
    "sns.barplot(x ='Gender', y ='MonthlyIncome', data = df,\n",
    "            palette ='plasma', estimator = np.std)"
   ]
  },
  {
   "cell_type": "markdown",
   "id": "6a9f4acf",
   "metadata": {},
   "source": [
    "- handle the female value with diffrent spelling \n",
    "- now it show me exact data \n",
    "- female having montly income is more than male\n",
    "- it show female on trip having more income"
   ]
  },
  {
   "cell_type": "code",
   "execution_count": 91,
   "id": "449c5784",
   "metadata": {},
   "outputs": [
    {
     "data": {
      "text/plain": [
       "<AxesSubplot:xlabel='Designation', ylabel='MonthlyIncome'>"
      ]
     },
     "execution_count": 91,
     "metadata": {},
     "output_type": "execute_result"
    },
    {
     "data": {
      "image/png": "[encoded data removed]",
      "text/plain": [
       "<Figure size 432x288 with 1 Axes>"
      ]
     },
     "metadata": {
      "needs_background": "light"
     },
     "output_type": "display_data"
    }
   ],
   "source": [
    "sns.barplot(x ='Designation', y ='MonthlyIncome', data = df,\n",
    "            palette ='plasma', estimator = np.std)"
   ]
  },
  {
   "cell_type": "markdown",
   "id": "7d9644ca",
   "metadata": {},
   "source": [
    "- degination wise executive having more income than others"
   ]
  },
  {
   "cell_type": "code",
   "execution_count": 93,
   "id": "e562909c",
   "metadata": {},
   "outputs": [
    {
     "data": {
      "text/plain": [
       "<AxesSubplot:xlabel='Designation', ylabel='Age'>"
      ]
     },
     "execution_count": 93,
     "metadata": {},
     "output_type": "execute_result"
    },
    {
     "data": {
      "image/png": "[encoded data removed]",
      "text/plain": [
       "<Figure size 432x288 with 1 Axes>"
      ]
     },
     "metadata": {
      "needs_background": "light"
     },
     "output_type": "display_data"
    }
   ],
   "source": [
    "sns.barplot(x ='Designation', y ='Age', data = df,\n",
    "            palette ='plasma', estimator = np.std)"
   ]
  },
  {
   "cell_type": "markdown",
   "id": "2c0d1201",
   "metadata": {},
   "source": [
    "- Executive and Senior manager age is more Degination wise"
   ]
  },
  {
   "cell_type": "code",
   "execution_count": 95,
   "id": "80998020",
   "metadata": {},
   "outputs": [
    {
     "data": {
      "text/plain": [
       "<AxesSubplot:xlabel='NumberOfPersonVisiting', ylabel='Designation'>"
      ]
     },
     "execution_count": 95,
     "metadata": {},
     "output_type": "execute_result"
    },
    {
     "data": {
      "image/png": "[encoded data removed]",
      "text/plain": [
       "<Figure size 432x288 with 1 Axes>"
      ]
     },
     "metadata": {
      "needs_background": "light"
     },
     "output_type": "display_data"
    }
   ],
   "source": [
    "sns.barplot(x ='NumberOfPersonVisiting', y ='Designation', data = df,\n",
    "            palette ='plasma', estimator = np.std)"
   ]
  },
  {
   "cell_type": "markdown",
   "id": "f43f441f",
   "metadata": {},
   "source": [
    "- Deginationwise Senior Manager and AVP is visting more in the trip"
   ]
  },
  {
   "cell_type": "code",
   "execution_count": 96,
   "id": "2aca7495",
   "metadata": {},
   "outputs": [
    {
     "data": {
      "text/plain": [
       "<AxesSubplot:xlabel='NumberOfPersonVisiting', ylabel='MaritalStatus'>"
      ]
     },
     "execution_count": 96,
     "metadata": {},
     "output_type": "execute_result"
    },
    {
     "data": {
      "image/png": "[encoded data removed]",
      "text/plain": [
       "<Figure size 432x288 with 1 Axes>"
      ]
     },
     "metadata": {
      "needs_background": "light"
     },
     "output_type": "display_data"
    }
   ],
   "source": [
    "sns.barplot(x ='NumberOfPersonVisiting', y ='MaritalStatus', data = df,\n",
    "            palette ='plasma', estimator = np.std)"
   ]
  },
  {
   "cell_type": "markdown",
   "id": "a003e50b",
   "metadata": {},
   "source": [
    "- Most of the person who are visting in trip is married and divorsed person"
   ]
  },
  {
   "cell_type": "code",
   "execution_count": 98,
   "id": "3c2e3c44",
   "metadata": {},
   "outputs": [
    {
     "data": {
      "text/plain": [
       "<AxesSubplot:xlabel='TypeofContact', ylabel='count'>"
      ]
     },
     "execution_count": 98,
     "metadata": {},
     "output_type": "execute_result"
    },
    {
     "data": {
      "image/png": "[encoded data removed]",
      "text/plain": [
       "<Figure size 432x288 with 1 Axes>"
      ]
     },
     "metadata": {
      "needs_background": "light"
     },
     "output_type": "display_data"
    }
   ],
   "source": [
    "# count plot on single categorical variable\n",
    "sns.countplot(x ='TypeofContact', data = df)"
   ]
  },
  {
   "cell_type": "markdown",
   "id": "dda7a695",
   "metadata": {},
   "source": [
    "- self enquiry is more than comapny invited"
   ]
  },
  {
   "cell_type": "code",
   "execution_count": 101,
   "id": "ba62e218",
   "metadata": {},
   "outputs": [
    {
     "data": {
      "text/plain": [
       "<AxesSubplot:xlabel='TypeofContact', ylabel='NumberOfPersonVisiting'>"
      ]
     },
     "execution_count": 101,
     "metadata": {},
     "output_type": "execute_result"
    },
    {
     "data": {
      "image/png": "[encoded data removed]",
      "text/plain": [
       "<Figure size 432x288 with 1 Axes>"
      ]
     },
     "metadata": {
      "needs_background": "light"
     },
     "output_type": "display_data"
    }
   ],
   "source": [
    "sns.barplot(x ='TypeofContact', y ='NumberOfPersonVisiting', data = df,\n",
    "            palette ='plasma', estimator = np.std)"
   ]
  },
  {
   "cell_type": "markdown",
   "id": "36d0fdc6",
   "metadata": {},
   "source": [
    "- company invited person visit more in the trip"
   ]
  },
  {
   "cell_type": "code",
   "execution_count": 103,
   "id": "981f51cb",
   "metadata": {},
   "outputs": [
    {
     "data": {
      "text/plain": [
       "<AxesSubplot:xlabel='Occupation', ylabel='NumberOfPersonVisiting'>"
      ]
     },
     "execution_count": 103,
     "metadata": {},
     "output_type": "execute_result"
    },
    {
     "data": {
      "image/png": "[encoded data removed]",
      "text/plain": [
       "<Figure size 432x288 with 1 Axes>"
      ]
     },
     "metadata": {
      "needs_background": "light"
     },
     "output_type": "display_data"
    }
   ],
   "source": [
    "sns.barplot(x ='Occupation', y ='NumberOfPersonVisiting', data = df,\n",
    "            palette ='plasma', estimator = np.std)"
   ]
  },
  {
   "cell_type": "markdown",
   "id": "d849340c",
   "metadata": {},
   "source": [
    " - small business and salried person visit more in the trip"
   ]
  },
  {
   "cell_type": "code",
   "execution_count": null,
   "id": "4cf51da6",
   "metadata": {},
   "outputs": [],
   "source": []
  },
  {
   "cell_type": "code",
   "execution_count": 105,
   "id": "fb3cfcdd",
   "metadata": {},
   "outputs": [
    {
     "data": {
      "text/plain": [
       "<AxesSubplot:xlabel='Occupation', ylabel='NumberOfTrips'>"
      ]
     },
     "execution_count": 105,
     "metadata": {},
     "output_type": "execute_result"
    },
    {
     "data": {
      "image/png": "[encoded data removed]",
      "text/plain": [
       "<Figure size 432x288 with 1 Axes>"
      ]
     },
     "metadata": {
      "needs_background": "light"
     },
     "output_type": "display_data"
    }
   ],
   "source": [
    "sns.barplot(x ='Occupation', y ='NumberOfTrips', data = df,\n",
    "            palette ='plasma', estimator = np.std)"
   ]
  },
  {
   "cell_type": "markdown",
   "id": "943fa506",
   "metadata": {},
   "source": [
    "- number of trip is more for large business"
   ]
  },
  {
   "cell_type": "code",
   "execution_count": 106,
   "id": "76e5f06a",
   "metadata": {},
   "outputs": [
    {
     "data": {
      "text/plain": [
       "<AxesSubplot:xlabel='Gender', ylabel='NumberOfTrips'>"
      ]
     },
     "execution_count": 106,
     "metadata": {},
     "output_type": "execute_result"
    },
    {
     "data": {
      "image/png": "[encoded data removed]",
      "text/plain": [
       "<Figure size 432x288 with 1 Axes>"
      ]
     },
     "metadata": {
      "needs_background": "light"
     },
     "output_type": "display_data"
    }
   ],
   "source": [
    "sns.barplot(x ='Gender', y ='NumberOfTrips', data = df,\n",
    "            palette ='plasma', estimator = np.std)"
   ]
  },
  {
   "cell_type": "markdown",
   "id": "9a60b37b",
   "metadata": {},
   "source": [
    "- No of trip is more for male "
   ]
  },
  {
   "cell_type": "code",
   "execution_count": 107,
   "id": "03eb304c",
   "metadata": {},
   "outputs": [
    {
     "data": {
      "text/plain": [
       "<AxesSubplot:xlabel='Designation', ylabel='NumberOfTrips'>"
      ]
     },
     "execution_count": 107,
     "metadata": {},
     "output_type": "execute_result"
    },
    {
     "data": {
      "image/png": "[encoded data removed]",
      "text/plain": [
       "<Figure size 432x288 with 1 Axes>"
      ]
     },
     "metadata": {
      "needs_background": "light"
     },
     "output_type": "display_data"
    }
   ],
   "source": [
    "sns.barplot(x ='Designation', y ='NumberOfTrips', data = df,\n",
    "            palette ='plasma', estimator = np.std)"
   ]
  },
  {
   "cell_type": "markdown",
   "id": "96552aa2",
   "metadata": {},
   "source": [
    "- Number of trip for manager is more than other Designation"
   ]
  },
  {
   "cell_type": "code",
   "execution_count": 108,
   "id": "d302bc81",
   "metadata": {},
   "outputs": [
    {
     "data": {
      "text/plain": [
       "<AxesSubplot:xlabel='Designation', ylabel='PitchSatisfactionScore'>"
      ]
     },
     "execution_count": 108,
     "metadata": {},
     "output_type": "execute_result"
    },
    {
     "data": {
      "image/png": "[encoded data removed]",
      "text/plain": [
       "<Figure size 432x288 with 1 Axes>"
      ]
     },
     "metadata": {
      "needs_background": "light"
     },
     "output_type": "display_data"
    }
   ],
   "source": [
    "sns.barplot(x ='Designation', y ='PitchSatisfactionScore', data = df,\n",
    "            palette ='plasma', estimator = np.std)"
   ]
  },
  {
   "cell_type": "markdown",
   "id": "39fffa2d",
   "metadata": {},
   "source": [
    "- PitchSatisfactionScore is more for VP Designation"
   ]
  },
  {
   "cell_type": "code",
   "execution_count": 109,
   "id": "b38a731f",
   "metadata": {},
   "outputs": [
    {
     "data": {
      "text/plain": [
       "<AxesSubplot:xlabel='Gender', ylabel='PitchSatisfactionScore'>"
      ]
     },
     "execution_count": 109,
     "metadata": {},
     "output_type": "execute_result"
    },
    {
     "data": {
      "image/png": "[encoded data removed]",
      "text/plain": [
       "<Figure size 432x288 with 1 Axes>"
      ]
     },
     "metadata": {
      "needs_background": "light"
     },
     "output_type": "display_data"
    }
   ],
   "source": [
    "sns.barplot(x ='Gender', y ='PitchSatisfactionScore', data = df,\n",
    "            palette ='plasma', estimator = np.std)"
   ]
  },
  {
   "cell_type": "markdown",
   "id": "b36717cf",
   "metadata": {},
   "source": [
    "- PitchSatisfactionScore is almost similar for Male and Female but female is more PitchSatisfactionScore"
   ]
  },
  {
   "cell_type": "code",
   "execution_count": 111,
   "id": "0fed6054",
   "metadata": {},
   "outputs": [
    {
     "data": {
      "text/plain": [
       "<AxesSubplot:xlabel='MaritalStatus', ylabel='PitchSatisfactionScore'>"
      ]
     },
     "execution_count": 111,
     "metadata": {},
     "output_type": "execute_result"
    },
    {
     "data": {
      "image/png": "[encoded data removed]",
      "text/plain": [
       "<Figure size 432x288 with 1 Axes>"
      ]
     },
     "metadata": {
      "needs_background": "light"
     },
     "output_type": "display_data"
    }
   ],
   "source": [
    "sns.barplot(x ='MaritalStatus', y ='PitchSatisfactionScore', data = df,\n",
    "            palette ='plasma', estimator = np.std)"
   ]
  },
  {
   "cell_type": "markdown",
   "id": "730b6256",
   "metadata": {},
   "source": [
    "-  Married person having more PitchSatisfactionScore"
   ]
  },
  {
   "cell_type": "code",
   "execution_count": 113,
   "id": "7329ae80",
   "metadata": {},
   "outputs": [
    {
     "data": {
      "text/plain": [
       "<AxesSubplot:xlabel='ProductPitched', ylabel='PitchSatisfactionScore'>"
      ]
     },
     "execution_count": 113,
     "metadata": {},
     "output_type": "execute_result"
    },
    {
     "data": {
      "image/png": "[encoded data removed]",
      "text/plain": [
       "<Figure size 432x288 with 1 Axes>"
      ]
     },
     "metadata": {
      "needs_background": "light"
     },
     "output_type": "display_data"
    }
   ],
   "source": [
    "sns.barplot(x ='ProductPitched', y ='PitchSatisfactionScore', data = df,\n",
    "            palette ='plasma', estimator = np.std)"
   ]
  },
  {
   "cell_type": "markdown",
   "id": "7cf69dbf",
   "metadata": {},
   "source": [
    "- productitched King having more PitchSatisfactionScore"
   ]
  },
  {
   "cell_type": "code",
   "execution_count": 116,
   "id": "a4492fdf",
   "metadata": {},
   "outputs": [
    {
     "data": {
      "text/plain": [
       "<AxesSubplot:xlabel='ProductPitched', ylabel='NumberOfFollowups'>"
      ]
     },
     "execution_count": 116,
     "metadata": {},
     "output_type": "execute_result"
    },
    {
     "data": {
      "image/png": "[encoded data removed]",
      "text/plain": [
       "<Figure size 432x288 with 1 Axes>"
      ]
     },
     "metadata": {
      "needs_background": "light"
     },
     "output_type": "display_data"
    }
   ],
   "source": [
    "sns.barplot(x ='ProductPitched', y ='NumberOfFollowups', data = df,\n",
    "            palette ='plasma', estimator = np.std)"
   ]
  },
  {
   "cell_type": "markdown",
   "id": "fea1ebfd",
   "metadata": {},
   "source": [
    "- product Pitched (Super Deluxe) having more NumberOfFollowups "
   ]
  },
  {
   "cell_type": "code",
   "execution_count": 117,
   "id": "753df746",
   "metadata": {},
   "outputs": [
    {
     "data": {
      "text/plain": [
       "<AxesSubplot:xlabel='Gender', ylabel='NumberOfFollowups'>"
      ]
     },
     "execution_count": 117,
     "metadata": {},
     "output_type": "execute_result"
    },
    {
     "data": {
      "image/png": "[encoded data removed]",
      "text/plain": [
       "<Figure size 432x288 with 1 Axes>"
      ]
     },
     "metadata": {
      "needs_background": "light"
     },
     "output_type": "display_data"
    }
   ],
   "source": [
    "sns.barplot(x ='Gender', y ='NumberOfFollowups', data = df,\n",
    "            palette ='plasma', estimator = np.std)"
   ]
  },
  {
   "cell_type": "markdown",
   "id": "ff09adb2",
   "metadata": {},
   "source": [
    "- NumberOfFollowups is more for Male than Female in the trip"
   ]
  },
  {
   "cell_type": "code",
   "execution_count": 120,
   "id": "bcfa279b",
   "metadata": {},
   "outputs": [
    {
     "data": {
      "text/plain": [
       "<AxesSubplot:xlabel='MaritalStatus', ylabel='NumberOfFollowups'>"
      ]
     },
     "execution_count": 120,
     "metadata": {},
     "output_type": "execute_result"
    },
    {
     "data": {
      "image/png": "[encoded data removed]",
      "text/plain": [
       "<Figure size 432x288 with 1 Axes>"
      ]
     },
     "metadata": {
      "needs_background": "light"
     },
     "output_type": "display_data"
    }
   ],
   "source": [
    "sns.barplot(x ='MaritalStatus', y ='NumberOfFollowups', data = df,\n",
    "            palette ='plasma', estimator = np.std)"
   ]
  },
  {
   "cell_type": "markdown",
   "id": "85a0aaf3",
   "metadata": {},
   "source": [
    "- NumberOfFollowups is more for Married Person"
   ]
  },
  {
   "cell_type": "code",
   "execution_count": 119,
   "id": "7686b1b2",
   "metadata": {},
   "outputs": [
    {
     "data": {
      "text/plain": [
       "Index(['CustomerID', 'ProdTaken', 'Age', 'TypeofContact', 'CityTier',\n",
       "       'DurationOfPitch', 'Occupation', 'Gender', 'NumberOfPersonVisiting',\n",
       "       'NumberOfFollowups', 'ProductPitched', 'PreferredPropertyStar',\n",
       "       'MaritalStatus', 'NumberOfTrips', 'Passport', 'PitchSatisfactionScore',\n",
       "       'OwnCar', 'NumberOfChildrenVisiting', 'Designation', 'MonthlyIncome'],\n",
       "      dtype='object')"
      ]
     },
     "execution_count": 119,
     "metadata": {},
     "output_type": "execute_result"
    }
   ],
   "source": [
    "df.columns"
   ]
  },
  {
   "cell_type": "code",
   "execution_count": 121,
   "id": "579a6582",
   "metadata": {},
   "outputs": [
    {
     "data": {
      "text/plain": [
       "<AxesSubplot:xlabel='TypeofContact', ylabel='NumberOfFollowups'>"
      ]
     },
     "execution_count": 121,
     "metadata": {},
     "output_type": "execute_result"
    },
    {
     "data": {
      "image/png": "[encoded data removed]",
      "text/plain": [
       "<Figure size 432x288 with 1 Axes>"
      ]
     },
     "metadata": {
      "needs_background": "light"
     },
     "output_type": "display_data"
    }
   ],
   "source": [
    "sns.barplot(x ='TypeofContact', y ='NumberOfFollowups', data = df,\n",
    "            palette ='plasma', estimator = np.std)"
   ]
  },
  {
   "cell_type": "markdown",
   "id": "352d30a0",
   "metadata": {},
   "source": [
    "- Company Invited is more number of followups"
   ]
  },
  {
   "cell_type": "code",
   "execution_count": 122,
   "id": "d566e05e",
   "metadata": {},
   "outputs": [
    {
     "data": {
      "text/plain": [
       "<AxesSubplot:xlabel='Designation', ylabel='NumberOfFollowups'>"
      ]
     },
     "execution_count": 122,
     "metadata": {},
     "output_type": "execute_result"
    },
    {
     "data": {
      "image/png": "[encoded data removed]",
      "text/plain": [
       "<Figure size 432x288 with 1 Axes>"
      ]
     },
     "metadata": {
      "needs_background": "light"
     },
     "output_type": "display_data"
    }
   ],
   "source": [
    "sns.barplot(x ='Designation', y ='NumberOfFollowups', data = df,\n",
    "            palette ='plasma', estimator = np.std)"
   ]
  },
  {
   "cell_type": "markdown",
   "id": "b9f598a9",
   "metadata": {},
   "source": [
    "- AVP is more number of followups than other in case of Designation"
   ]
  },
  {
   "cell_type": "code",
   "execution_count": 123,
   "id": "1eb115a8",
   "metadata": {},
   "outputs": [
    {
     "data": {
      "text/plain": [
       "<AxesSubplot:xlabel='Occupation', ylabel='NumberOfFollowups'>"
      ]
     },
     "execution_count": 123,
     "metadata": {},
     "output_type": "execute_result"
    },
    {
     "data": {
      "image/png": "[encoded data removed]",
      "text/plain": [
       "<Figure size 432x288 with 1 Axes>"
      ]
     },
     "metadata": {
      "needs_background": "light"
     },
     "output_type": "display_data"
    }
   ],
   "source": [
    "sns.barplot(x ='Occupation', y ='NumberOfFollowups', data = df,\n",
    "            palette ='plasma', estimator = np.std)"
   ]
  },
  {
   "cell_type": "markdown",
   "id": "734398c6",
   "metadata": {},
   "source": [
    " - Salaried person is more number of followups"
   ]
  },
  {
   "cell_type": "code",
   "execution_count": 127,
   "id": "b48403a6",
   "metadata": {},
   "outputs": [
    {
     "data": {
      "text/plain": [
       "array([1, 0], dtype=int64)"
      ]
     },
     "execution_count": 127,
     "metadata": {},
     "output_type": "execute_result"
    }
   ],
   "source": [
    "pd. unique (df['Passport'])"
   ]
  },
  {
   "cell_type": "markdown",
   "id": "c931a362",
   "metadata": {},
   "source": [
    "-  here we can consider 1 - having the passport and 0 not having the passport"
   ]
  },
  {
   "cell_type": "code",
   "execution_count": 128,
   "id": "08e6c50e",
   "metadata": {},
   "outputs": [
    {
     "data": {
      "text/plain": [
       "<AxesSubplot:xlabel='Passport', ylabel='NumberOfFollowups'>"
      ]
     },
     "execution_count": 128,
     "metadata": {},
     "output_type": "execute_result"
    },
    {
     "data": {
      "image/png": "[encoded data removed]",
      "text/plain": [
       "<Figure size 432x288 with 1 Axes>"
      ]
     },
     "metadata": {
      "needs_background": "light"
     },
     "output_type": "display_data"
    }
   ],
   "source": [
    "sns.barplot(x ='Passport', y ='NumberOfFollowups', data = df,\n",
    "            palette ='plasma', estimator = np.std)"
   ]
  },
  {
   "cell_type": "markdown",
   "id": "fb49ca90",
   "metadata": {},
   "source": [
    "- person Having passport is more number of followups"
   ]
  },
  {
   "cell_type": "code",
   "execution_count": 129,
   "id": "e17f6879",
   "metadata": {},
   "outputs": [
    {
     "data": {
      "text/plain": [
       "<AxesSubplot:xlabel='Passport', ylabel='NumberOfPersonVisiting'>"
      ]
     },
     "execution_count": 129,
     "metadata": {},
     "output_type": "execute_result"
    },
    {
     "data": {
      "image/png": "[encoded data removed]",
      "text/plain": [
       "<Figure size 432x288 with 1 Axes>"
      ]
     },
     "metadata": {
      "needs_background": "light"
     },
     "output_type": "display_data"
    }
   ],
   "source": [
    "sns.barplot(x ='Passport', y ='NumberOfPersonVisiting', data = df,\n",
    "            palette ='plasma', estimator = np.std)"
   ]
  },
  {
   "cell_type": "markdown",
   "id": "7133e0b2",
   "metadata": {},
   "source": [
    "- No of person visitong having without passport is more\n",
    "- Person having passport is also visiting but no having passport is showing more"
   ]
  },
  {
   "cell_type": "code",
   "execution_count": 130,
   "id": "d5b18eb4",
   "metadata": {},
   "outputs": [
    {
     "data": {
      "text/plain": [
       "<AxesSubplot:xlabel='Passport', ylabel='MonthlyIncome'>"
      ]
     },
     "execution_count": 130,
     "metadata": {},
     "output_type": "execute_result"
    },
    {
     "data": {
      "image/png": "[encoded data removed]",
      "text/plain": [
       "<Figure size 432x288 with 1 Axes>"
      ]
     },
     "metadata": {
      "needs_background": "light"
     },
     "output_type": "display_data"
    }
   ],
   "source": [
    "sns.barplot(x ='Passport', y ='MonthlyIncome', data = df,\n",
    "            palette ='plasma', estimator = np.std)"
   ]
  },
  {
   "cell_type": "markdown",
   "id": "b04f6615",
   "metadata": {},
   "source": [
    "- person having passport having more income"
   ]
  },
  {
   "cell_type": "code",
   "execution_count": 131,
   "id": "b4a3ec43",
   "metadata": {},
   "outputs": [
    {
     "data": {
      "text/plain": [
       "<AxesSubplot:xlabel='Passport', ylabel='PitchSatisfactionScore'>"
      ]
     },
     "execution_count": 131,
     "metadata": {},
     "output_type": "execute_result"
    },
    {
     "data": {
      "image/png": "[encoded data removed]",
      "text/plain": [
       "<Figure size 432x288 with 1 Axes>"
      ]
     },
     "metadata": {
      "needs_background": "light"
     },
     "output_type": "display_data"
    }
   ],
   "source": [
    "sns.barplot(x ='Passport', y ='PitchSatisfactionScore', data = df,\n",
    "            palette ='plasma', estimator = np.std)"
   ]
  },
  {
   "cell_type": "markdown",
   "id": "1aef11f8",
   "metadata": {},
   "source": [
    "- person having passport having more PitchSatisfactionScore"
   ]
  },
  {
   "cell_type": "code",
   "execution_count": 136,
   "id": "61962126",
   "metadata": {},
   "outputs": [
    {
     "data": {
      "text/plain": [
       "<AxesSubplot:xlabel='Passport', ylabel='ProdTaken'>"
      ]
     },
     "execution_count": 136,
     "metadata": {},
     "output_type": "execute_result"
    },
    {
     "data": {
      "image/png": "[encoded data removed]",
      "text/plain": [
       "<Figure size 432x288 with 1 Axes>"
      ]
     },
     "metadata": {
      "needs_background": "light"
     },
     "output_type": "display_data"
    }
   ],
   "source": [
    "sns.barplot(x ='Passport', y ='ProdTaken', data = df,\n",
    "            palette ='plasma', estimator = np.std)"
   ]
  },
  {
   "cell_type": "markdown",
   "id": "0ad170e9",
   "metadata": {},
   "source": [
    "- Product Taken person having passport is more"
   ]
  },
  {
   "cell_type": "markdown",
   "id": "fa8ddabd",
   "metadata": {},
   "source": [
    "# MultiVariate Analysis"
   ]
  },
  {
   "cell_type": "code",
   "execution_count": 133,
   "id": "e366c1c1",
   "metadata": {},
   "outputs": [
    {
     "data": {
      "text/html": [
       "<div>\n",
       "<style scoped>\n",
       "    .dataframe tbody tr th:only-of-type {\n",
       "        vertical-align: middle;\n",
       "    }\n",
       "\n",
       "    .dataframe tbody tr th {\n",
       "        vertical-align: top;\n",
       "    }\n",
       "\n",
       "    .dataframe thead th {\n",
       "        text-align: right;\n",
       "    }\n",
       "</style>\n",
       "<table border=\"1\" class=\"dataframe\">\n",
       "  <thead>\n",
       "    <tr style=\"text-align: right;\">\n",
       "      <th></th>\n",
       "      <th>CustomerID</th>\n",
       "      <th>ProdTaken</th>\n",
       "      <th>Age</th>\n",
       "      <th>CityTier</th>\n",
       "      <th>DurationOfPitch</th>\n",
       "      <th>NumberOfPersonVisiting</th>\n",
       "      <th>NumberOfFollowups</th>\n",
       "      <th>PreferredPropertyStar</th>\n",
       "      <th>NumberOfTrips</th>\n",
       "      <th>Passport</th>\n",
       "      <th>PitchSatisfactionScore</th>\n",
       "      <th>OwnCar</th>\n",
       "      <th>NumberOfChildrenVisiting</th>\n",
       "      <th>MonthlyIncome</th>\n",
       "    </tr>\n",
       "  </thead>\n",
       "  <tbody>\n",
       "    <tr>\n",
       "      <th>CustomerID</th>\n",
       "      <td>1.000000</td>\n",
       "      <td>0.056506</td>\n",
       "      <td>0.031362</td>\n",
       "      <td>0.012975</td>\n",
       "      <td>0.062645</td>\n",
       "      <td>0.604013</td>\n",
       "      <td>0.425555</td>\n",
       "      <td>0.010517</td>\n",
       "      <td>0.202611</td>\n",
       "      <td>0.007974</td>\n",
       "      <td>-0.035847</td>\n",
       "      <td>0.003805</td>\n",
       "      <td>0.508744</td>\n",
       "      <td>0.270023</td>\n",
       "    </tr>\n",
       "    <tr>\n",
       "      <th>ProdTaken</th>\n",
       "      <td>0.056506</td>\n",
       "      <td>1.000000</td>\n",
       "      <td>-0.143717</td>\n",
       "      <td>0.086852</td>\n",
       "      <td>0.076297</td>\n",
       "      <td>0.009627</td>\n",
       "      <td>0.111675</td>\n",
       "      <td>0.099265</td>\n",
       "      <td>0.023684</td>\n",
       "      <td>0.260844</td>\n",
       "      <td>0.051394</td>\n",
       "      <td>-0.011508</td>\n",
       "      <td>0.007388</td>\n",
       "      <td>-0.128092</td>\n",
       "    </tr>\n",
       "    <tr>\n",
       "      <th>Age</th>\n",
       "      <td>0.031362</td>\n",
       "      <td>-0.143717</td>\n",
       "      <td>1.000000</td>\n",
       "      <td>-0.015344</td>\n",
       "      <td>-0.011280</td>\n",
       "      <td>0.011298</td>\n",
       "      <td>-0.002477</td>\n",
       "      <td>-0.010130</td>\n",
       "      <td>0.152640</td>\n",
       "      <td>0.032602</td>\n",
       "      <td>0.018055</td>\n",
       "      <td>0.047525</td>\n",
       "      <td>0.006617</td>\n",
       "      <td>0.456273</td>\n",
       "    </tr>\n",
       "    <tr>\n",
       "      <th>CityTier</th>\n",
       "      <td>0.012975</td>\n",
       "      <td>0.086852</td>\n",
       "      <td>-0.015344</td>\n",
       "      <td>1.000000</td>\n",
       "      <td>0.022020</td>\n",
       "      <td>-0.001671</td>\n",
       "      <td>0.023524</td>\n",
       "      <td>-0.009145</td>\n",
       "      <td>-0.026066</td>\n",
       "      <td>0.001793</td>\n",
       "      <td>-0.042160</td>\n",
       "      <td>0.003817</td>\n",
       "      <td>0.000668</td>\n",
       "      <td>0.050644</td>\n",
       "    </tr>\n",
       "    <tr>\n",
       "      <th>DurationOfPitch</th>\n",
       "      <td>0.062645</td>\n",
       "      <td>0.076297</td>\n",
       "      <td>-0.011280</td>\n",
       "      <td>0.022020</td>\n",
       "      <td>1.000000</td>\n",
       "      <td>0.063310</td>\n",
       "      <td>0.009197</td>\n",
       "      <td>-0.006448</td>\n",
       "      <td>0.013662</td>\n",
       "      <td>0.032245</td>\n",
       "      <td>-0.002810</td>\n",
       "      <td>-0.001585</td>\n",
       "      <td>0.030349</td>\n",
       "      <td>-0.006004</td>\n",
       "    </tr>\n",
       "    <tr>\n",
       "      <th>NumberOfPersonVisiting</th>\n",
       "      <td>0.604013</td>\n",
       "      <td>0.009627</td>\n",
       "      <td>0.011298</td>\n",
       "      <td>-0.001671</td>\n",
       "      <td>0.063310</td>\n",
       "      <td>1.000000</td>\n",
       "      <td>0.326649</td>\n",
       "      <td>0.033749</td>\n",
       "      <td>0.179055</td>\n",
       "      <td>0.011177</td>\n",
       "      <td>-0.019581</td>\n",
       "      <td>0.010362</td>\n",
       "      <td>0.607215</td>\n",
       "      <td>0.189278</td>\n",
       "    </tr>\n",
       "    <tr>\n",
       "      <th>NumberOfFollowups</th>\n",
       "      <td>0.425555</td>\n",
       "      <td>0.111675</td>\n",
       "      <td>-0.002477</td>\n",
       "      <td>0.023524</td>\n",
       "      <td>0.009197</td>\n",
       "      <td>0.326649</td>\n",
       "      <td>1.000000</td>\n",
       "      <td>-0.023957</td>\n",
       "      <td>0.128416</td>\n",
       "      <td>0.004951</td>\n",
       "      <td>0.004035</td>\n",
       "      <td>0.012057</td>\n",
       "      <td>0.283545</td>\n",
       "      <td>0.172591</td>\n",
       "    </tr>\n",
       "    <tr>\n",
       "      <th>PreferredPropertyStar</th>\n",
       "      <td>0.010517</td>\n",
       "      <td>0.099265</td>\n",
       "      <td>-0.010130</td>\n",
       "      <td>-0.009145</td>\n",
       "      <td>-0.006448</td>\n",
       "      <td>0.033749</td>\n",
       "      <td>-0.023957</td>\n",
       "      <td>1.000000</td>\n",
       "      <td>0.012384</td>\n",
       "      <td>0.001038</td>\n",
       "      <td>-0.022635</td>\n",
       "      <td>0.015712</td>\n",
       "      <td>0.035378</td>\n",
       "      <td>0.013432</td>\n",
       "    </tr>\n",
       "    <tr>\n",
       "      <th>NumberOfTrips</th>\n",
       "      <td>0.202611</td>\n",
       "      <td>0.023684</td>\n",
       "      <td>0.152640</td>\n",
       "      <td>-0.026066</td>\n",
       "      <td>0.013662</td>\n",
       "      <td>0.179055</td>\n",
       "      <td>0.128416</td>\n",
       "      <td>0.012384</td>\n",
       "      <td>1.000000</td>\n",
       "      <td>0.013517</td>\n",
       "      <td>-0.005295</td>\n",
       "      <td>-0.014195</td>\n",
       "      <td>0.150545</td>\n",
       "      <td>0.070544</td>\n",
       "    </tr>\n",
       "    <tr>\n",
       "      <th>Passport</th>\n",
       "      <td>0.007974</td>\n",
       "      <td>0.260844</td>\n",
       "      <td>0.032602</td>\n",
       "      <td>0.001793</td>\n",
       "      <td>0.032245</td>\n",
       "      <td>0.011177</td>\n",
       "      <td>0.004951</td>\n",
       "      <td>0.001038</td>\n",
       "      <td>0.013517</td>\n",
       "      <td>1.000000</td>\n",
       "      <td>0.002926</td>\n",
       "      <td>-0.022330</td>\n",
       "      <td>0.020132</td>\n",
       "      <td>0.002488</td>\n",
       "    </tr>\n",
       "    <tr>\n",
       "      <th>PitchSatisfactionScore</th>\n",
       "      <td>-0.035847</td>\n",
       "      <td>0.051394</td>\n",
       "      <td>0.018055</td>\n",
       "      <td>-0.042160</td>\n",
       "      <td>-0.002810</td>\n",
       "      <td>-0.019581</td>\n",
       "      <td>0.004035</td>\n",
       "      <td>-0.022635</td>\n",
       "      <td>-0.005295</td>\n",
       "      <td>0.002926</td>\n",
       "      <td>1.000000</td>\n",
       "      <td>0.068850</td>\n",
       "      <td>0.000872</td>\n",
       "      <td>0.029701</td>\n",
       "    </tr>\n",
       "    <tr>\n",
       "      <th>OwnCar</th>\n",
       "      <td>0.003805</td>\n",
       "      <td>-0.011508</td>\n",
       "      <td>0.047525</td>\n",
       "      <td>0.003817</td>\n",
       "      <td>-0.001585</td>\n",
       "      <td>0.010362</td>\n",
       "      <td>0.012057</td>\n",
       "      <td>0.015712</td>\n",
       "      <td>-0.014195</td>\n",
       "      <td>-0.022330</td>\n",
       "      <td>0.068850</td>\n",
       "      <td>1.000000</td>\n",
       "      <td>0.026414</td>\n",
       "      <td>0.078304</td>\n",
       "    </tr>\n",
       "    <tr>\n",
       "      <th>NumberOfChildrenVisiting</th>\n",
       "      <td>0.508744</td>\n",
       "      <td>0.007388</td>\n",
       "      <td>0.006617</td>\n",
       "      <td>0.000668</td>\n",
       "      <td>0.030349</td>\n",
       "      <td>0.607215</td>\n",
       "      <td>0.283545</td>\n",
       "      <td>0.035378</td>\n",
       "      <td>0.150545</td>\n",
       "      <td>0.020132</td>\n",
       "      <td>0.000872</td>\n",
       "      <td>0.026414</td>\n",
       "      <td>1.000000</td>\n",
       "      <td>0.188890</td>\n",
       "    </tr>\n",
       "    <tr>\n",
       "      <th>MonthlyIncome</th>\n",
       "      <td>0.270023</td>\n",
       "      <td>-0.128092</td>\n",
       "      <td>0.456273</td>\n",
       "      <td>0.050644</td>\n",
       "      <td>-0.006004</td>\n",
       "      <td>0.189278</td>\n",
       "      <td>0.172591</td>\n",
       "      <td>0.013432</td>\n",
       "      <td>0.070544</td>\n",
       "      <td>0.002488</td>\n",
       "      <td>0.029701</td>\n",
       "      <td>0.078304</td>\n",
       "      <td>0.188890</td>\n",
       "      <td>1.000000</td>\n",
       "    </tr>\n",
       "  </tbody>\n",
       "</table>\n",
       "</div>"
      ],
      "text/plain": [
       "                          CustomerID  ProdTaken       Age  CityTier  \\\n",
       "CustomerID                  1.000000   0.056506  0.031362  0.012975   \n",
       "ProdTaken                   0.056506   1.000000 -0.143717  0.086852   \n",
       "Age                         0.031362  -0.143717  1.000000 -0.015344   \n",
       "CityTier                    0.012975   0.086852 -0.015344  1.000000   \n",
       "DurationOfPitch             0.062645   0.076297 -0.011280  0.022020   \n",
       "NumberOfPersonVisiting      0.604013   0.009627  0.011298 -0.001671   \n",
       "NumberOfFollowups           0.425555   0.111675 -0.002477  0.023524   \n",
       "PreferredPropertyStar       0.010517   0.099265 -0.010130 -0.009145   \n",
       "NumberOfTrips               0.202611   0.023684  0.152640 -0.026066   \n",
       "Passport                    0.007974   0.260844  0.032602  0.001793   \n",
       "PitchSatisfactionScore     -0.035847   0.051394  0.018055 -0.042160   \n",
       "OwnCar                      0.003805  -0.011508  0.047525  0.003817   \n",
       "NumberOfChildrenVisiting    0.508744   0.007388  0.006617  0.000668   \n",
       "MonthlyIncome               0.270023  -0.128092  0.456273  0.050644   \n",
       "\n",
       "                          DurationOfPitch  NumberOfPersonVisiting  \\\n",
       "CustomerID                       0.062645                0.604013   \n",
       "ProdTaken                        0.076297                0.009627   \n",
       "Age                             -0.011280                0.011298   \n",
       "CityTier                         0.022020               -0.001671   \n",
       "DurationOfPitch                  1.000000                0.063310   \n",
       "NumberOfPersonVisiting           0.063310                1.000000   \n",
       "NumberOfFollowups                0.009197                0.326649   \n",
       "PreferredPropertyStar           -0.006448                0.033749   \n",
       "NumberOfTrips                    0.013662                0.179055   \n",
       "Passport                         0.032245                0.011177   \n",
       "PitchSatisfactionScore          -0.002810               -0.019581   \n",
       "OwnCar                          -0.001585                0.010362   \n",
       "NumberOfChildrenVisiting         0.030349                0.607215   \n",
       "MonthlyIncome                   -0.006004                0.189278   \n",
       "\n",
       "                          NumberOfFollowups  PreferredPropertyStar  \\\n",
       "CustomerID                         0.425555               0.010517   \n",
       "ProdTaken                          0.111675               0.099265   \n",
       "Age                               -0.002477              -0.010130   \n",
       "CityTier                           0.023524              -0.009145   \n",
       "DurationOfPitch                    0.009197              -0.006448   \n",
       "NumberOfPersonVisiting             0.326649               0.033749   \n",
       "NumberOfFollowups                  1.000000              -0.023957   \n",
       "PreferredPropertyStar             -0.023957               1.000000   \n",
       "NumberOfTrips                      0.128416               0.012384   \n",
       "Passport                           0.004951               0.001038   \n",
       "PitchSatisfactionScore             0.004035              -0.022635   \n",
       "OwnCar                             0.012057               0.015712   \n",
       "NumberOfChildrenVisiting           0.283545               0.035378   \n",
       "MonthlyIncome                      0.172591               0.013432   \n",
       "\n",
       "                          NumberOfTrips  Passport  PitchSatisfactionScore  \\\n",
       "CustomerID                     0.202611  0.007974               -0.035847   \n",
       "ProdTaken                      0.023684  0.260844                0.051394   \n",
       "Age                            0.152640  0.032602                0.018055   \n",
       "CityTier                      -0.026066  0.001793               -0.042160   \n",
       "DurationOfPitch                0.013662  0.032245               -0.002810   \n",
       "NumberOfPersonVisiting         0.179055  0.011177               -0.019581   \n",
       "NumberOfFollowups              0.128416  0.004951                0.004035   \n",
       "PreferredPropertyStar          0.012384  0.001038               -0.022635   \n",
       "NumberOfTrips                  1.000000  0.013517               -0.005295   \n",
       "Passport                       0.013517  1.000000                0.002926   \n",
       "PitchSatisfactionScore        -0.005295  0.002926                1.000000   \n",
       "OwnCar                        -0.014195 -0.022330                0.068850   \n",
       "NumberOfChildrenVisiting       0.150545  0.020132                0.000872   \n",
       "MonthlyIncome                  0.070544  0.002488                0.029701   \n",
       "\n",
       "                            OwnCar  NumberOfChildrenVisiting  MonthlyIncome  \n",
       "CustomerID                0.003805                  0.508744       0.270023  \n",
       "ProdTaken                -0.011508                  0.007388      -0.128092  \n",
       "Age                       0.047525                  0.006617       0.456273  \n",
       "CityTier                  0.003817                  0.000668       0.050644  \n",
       "DurationOfPitch          -0.001585                  0.030349      -0.006004  \n",
       "NumberOfPersonVisiting    0.010362                  0.607215       0.189278  \n",
       "NumberOfFollowups         0.012057                  0.283545       0.172591  \n",
       "PreferredPropertyStar     0.015712                  0.035378       0.013432  \n",
       "NumberOfTrips            -0.014195                  0.150545       0.070544  \n",
       "Passport                 -0.022330                  0.020132       0.002488  \n",
       "PitchSatisfactionScore    0.068850                  0.000872       0.029701  \n",
       "OwnCar                    1.000000                  0.026414       0.078304  \n",
       "NumberOfChildrenVisiting  0.026414                  1.000000       0.188890  \n",
       "MonthlyIncome             0.078304                  0.188890       1.000000  "
      ]
     },
     "execution_count": 133,
     "metadata": {},
     "output_type": "execute_result"
    }
   ],
   "source": [
    "df.corr()"
   ]
  },
  {
   "cell_type": "code",
   "execution_count": 135,
   "id": "9080f70f",
   "metadata": {},
   "outputs": [
    {
     "data": {
      "image/png": "[encoded data removed]",
      "text/plain": [
       "<Figure size 1080x720 with 2 Axes>"
      ]
     },
     "metadata": {
      "needs_background": "light"
     },
     "output_type": "display_data"
    }
   ],
   "source": [
    "plt.figure(figsize = (15,10))\n",
    "sns.heatmap(df.corr(), cmap=\"CMRmap\", annot=True)\n",
    "plt.show()"
   ]
  },
  {
   "cell_type": "markdown",
   "id": "b7fd43a3",
   "metadata": {},
   "source": [
    "- from above graph we can find the following Conslusion\n",
    "  - correlaton is weak with many columns \n",
    "  - Numberofpersonvistiong with producttaken having very weak relationship almost none is showing\n",
    "  - passport with producttaken having some good realtionship but not that much"
   ]
  },
  {
   "cell_type": "code",
   "execution_count": null,
   "id": "9f76afd1",
   "metadata": {},
   "outputs": [],
   "source": []
  }
 ],
 "metadata": {
  "kernelspec": {
   "display_name": "Python 3",
   "language": "python",
   "name": "python3"
  }
 },
 "nbformat": 4,
 "nbformat_minor": 5
}
